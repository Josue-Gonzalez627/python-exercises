{
 "cells": [
  {
   "cell_type": "markdown",
   "id": "7d200bf4",
   "metadata": {},
   "source": [
    "### Exercises\n",
    "You will need to use imports to complete each exercise. These exercises will also strengthen your problem solving and python coding skills.\n",
    "\n",
    "You will be directed to create specific files in part 1, for the rest you may do your work in either **import_exercises.py** or **import_exercises.ipynb**.\n"
   ]
  },
  {
   "cell_type": "markdown",
   "id": "d8e66f4b",
   "metadata": {},
   "source": [
    "1.) Import and test 3 of the functions from your functions exercise file. Import each function in a different way:\n"
   ]
  },
  {
   "cell_type": "markdown",
   "id": "3472eb93",
   "metadata": {},
   "source": [
    "a.) Run an interactive python session and import the module. Call the **is_vowel** function using the **.** syntax.\n"
   ]
  },
  {
   "cell_type": "code",
   "execution_count": 2,
   "id": "2decbc80",
   "metadata": {},
   "outputs": [
    {
     "data": {
      "text/plain": [
       "True"
      ]
     },
     "execution_count": 2,
     "metadata": {},
     "output_type": "execute_result"
    }
   ],
   "source": [
    "from function_exercises import is_vowel\n",
    "is_vowel('e')\n",
    "\n",
    "# Did this inside of the terminal and it works *"
   ]
  },
  {
   "cell_type": "markdown",
   "id": "f749382b",
   "metadata": {},
   "source": [
    "b.) Create a file named **import_exercises.py**. Within this file, use **from** to import the **calculate_tip** function directly. Call this function with values you choose and print the result.\n"
   ]
  },
  {
   "cell_type": "code",
   "execution_count": 3,
   "id": "35601fc5",
   "metadata": {},
   "outputs": [
    {
     "data": {
      "text/plain": [
       "62.5"
      ]
     },
     "execution_count": 3,
     "metadata": {},
     "output_type": "execute_result"
    }
   ],
   "source": [
    "from function_exercises import calculate_tip\n",
    "calculate_tip(.25, 250)\n",
    "\n",
    "# Did this in VS Code after linking the 'python-exercises' folder #"
   ]
  },
  {
   "cell_type": "markdown",
   "id": "34afb18b",
   "metadata": {},
   "source": [
    "c.) Create a jupyter notebook named **import_exercises.ipynb**. Use **from** to import the **get_letter_grade** function and give it an alias. Test this function in your notebook.\n"
   ]
  },
  {
   "cell_type": "code",
   "execution_count": 4,
   "id": "178910a2",
   "metadata": {},
   "outputs": [
    {
     "data": {
      "text/plain": [
       "'A'"
      ]
     },
     "execution_count": 4,
     "metadata": {},
     "output_type": "execute_result"
    }
   ],
   "source": [
    "from function_exercises import get_letter_grade as g_l_g\n",
    "\n",
    "g_l_g(92)"
   ]
  },
  {
   "cell_type": "markdown",
   "id": "bf4a519a",
   "metadata": {},
   "source": [
    "##### Make sure your code that tests the function imports is run from the same directory that your functions exercise file is in.\n"
   ]
  },
  {
   "cell_type": "markdown",
   "id": "db5baa82",
   "metadata": {},
   "source": [
    "2.) Read about and use the **itertools** module from the python standard library to help you solve the following problems. Note: Many of these functions in this library return an object, to see the results of the function, cast this object as a list.\n"
   ]
  },
  {
   "cell_type": "code",
   "execution_count": 5,
   "id": "b07c70a1",
   "metadata": {},
   "outputs": [],
   "source": [
    "import itertools\n",
    "# how to wrap things in a function\n",
    "\n",
    "# Don't have to import every time since it is done here.\n",
    "# preference if I prefer \"from ... import ...\""
   ]
  },
  {
   "cell_type": "markdown",
   "id": "a5518421",
   "metadata": {},
   "source": [
    "### Example from https://docs.python.org/3/library/itertools.html I like"
   ]
  },
  {
   "cell_type": "code",
   "execution_count": 6,
   "id": "2b6d4dd9",
   "metadata": {},
   "outputs": [],
   "source": [
    "# from itertools import accumulate\n",
    "# import itertools\n",
    "\n",
    "# def accumulate(iterable, func=operator.add, *, initial=None):\n",
    "#     'Return running totals'\n",
    "#     # accumulate([1,2,3,4,5]) --> 1 3 6 10 15\n",
    "#     # accumulate([1,2,3,4,5], initial=100) --> 100 101 103 106 110 115\n",
    "#     # accumulate([1,2,3,4,5], operator.mul) --> 1 2 6 24 120\n",
    "#     it = iter(iterable)\n",
    "#     total = initial\n",
    "#     if initial is None:\n",
    "#         try:\n",
    "#             total = next(it)\n",
    "#         except StopIteration:\n",
    "#             return\n",
    "#     yield total\n",
    "#     for element in it:\n",
    "#         total = func(total, element)\n",
    "#         yield total\n",
    "\n",
    "# data = [3, 4, 6, 2, 1, 9, 0, 7, 5, 8]\n",
    "# list(accumulate(data, operator.mul))\n",
    "\n",
    "# ### need to comeback and learn why mine won't run"
   ]
  },
  {
   "cell_type": "markdown",
   "id": "ce487d0e",
   "metadata": {},
   "source": [
    "* How many different ways can you combine a single letter from \"abc\" with either 1, 2, or 3?"
   ]
  },
  {
   "cell_type": "code",
   "execution_count": 7,
   "id": "1733df9c",
   "metadata": {},
   "outputs": [
    {
     "data": {
      "text/plain": [
       "[('a', 1),\n",
       " ('a', 2),\n",
       " ('a', 3),\n",
       " ('b', 1),\n",
       " ('b', 2),\n",
       " ('b', 3),\n",
       " ('c', 1),\n",
       " ('c', 2),\n",
       " ('c', 3)]"
      ]
     },
     "execution_count": 7,
     "metadata": {},
     "output_type": "execute_result"
    }
   ],
   "source": [
    "# Instructors\n",
    "\n",
    "list(itertools.product('abc',[1,2,3]))\n",
    "\n",
    "# List IS REQUIRED because it'll return an 'object' otherwise\n",
    "# and the reult will be like '<itertools.product at 0x104...etc>'"
   ]
  },
  {
   "cell_type": "code",
   "execution_count": 8,
   "id": "effc1508",
   "metadata": {},
   "outputs": [
    {
     "name": "stdout",
     "output_type": "stream",
     "text": [
      "combination: ('a', '1')\n",
      "combination: ('a', '2')\n",
      "combination: ('a', '3')\n",
      "combination: ('b', '1')\n",
      "combination: ('b', '2')\n",
      "combination: ('b', '3')\n",
      "combination: ('c', '1')\n",
      "combination: ('c', '2')\n",
      "combination: ('c', '3')\n",
      "Count = 9\n"
     ]
    }
   ],
   "source": [
    "from itertools import product\n",
    "\n",
    "letters = 'abc'\n",
    "numbers = '123'\n",
    "\n",
    "combinations = list(product(letters, numbers, repeat=1))\n",
    "count = len(combinations)\n",
    "\n",
    "for combination in combinations:\n",
    "    print(f'combination: {combination}')\n",
    "print(f'Count = {count}')"
   ]
  },
  {
   "cell_type": "markdown",
   "id": "154151a6",
   "metadata": {},
   "source": [
    "* How many different combinations are there of 2 letters from \"abcd\"?"
   ]
  },
  {
   "cell_type": "code",
   "execution_count": 9,
   "id": "85f633a9",
   "metadata": {},
   "outputs": [
    {
     "data": {
      "text/plain": [
       "6"
      ]
     },
     "execution_count": 9,
     "metadata": {},
     "output_type": "execute_result"
    }
   ],
   "source": [
    "# Instructors\n",
    "\n",
    "len(list(itertools.combinations('abcd',2)))\n",
    "\n",
    "# Simpler"
   ]
  },
  {
   "cell_type": "code",
   "execution_count": 10,
   "id": "8ead70ad",
   "metadata": {},
   "outputs": [
    {
     "name": "stdout",
     "output_type": "stream",
     "text": [
      "Combination: ('a', 'b')\n",
      "Combination: ('a', 'c')\n",
      "Combination: ('a', 'd')\n",
      "Combination: ('b', 'c')\n",
      "Combination: ('b', 'd')\n",
      "Combination: ('c', 'd')\n",
      "Count = 6\n"
     ]
    }
   ],
   "source": [
    "# In a combination, the elements of the subset can be listed in any order. \n",
    "# In a permutation, the elements of the subset are listed in a specific order.\n",
    "\n",
    "from itertools import combinations\n",
    "\n",
    "letters = 'abcd'\n",
    "k = 2\n",
    "combinations_2 = list(combinations(letters, k))\n",
    "count = len(combinations_2)\n",
    "\n",
    "for combination in combinations_2:\n",
    "    print(f'Combination: {combination}')\n",
    "    \n",
    "print(f'Count = {count}')"
   ]
  },
  {
   "cell_type": "markdown",
   "id": "f88cf092",
   "metadata": {},
   "source": [
    "* How many different permutations are there of 2 letters from \"abcd\"?"
   ]
  },
  {
   "cell_type": "code",
   "execution_count": 11,
   "id": "ec868082",
   "metadata": {},
   "outputs": [
    {
     "data": {
      "text/plain": [
       "12"
      ]
     },
     "execution_count": 11,
     "metadata": {},
     "output_type": "execute_result"
    }
   ],
   "source": [
    "# Instructor\n",
    "\n",
    "len(list(itertools.permutations('abcd',2)))\n",
    "\n",
    "# Simpler as well"
   ]
  },
  {
   "cell_type": "code",
   "execution_count": 12,
   "id": "ed66d6a6",
   "metadata": {},
   "outputs": [
    {
     "name": "stdout",
     "output_type": "stream",
     "text": [
      "[('a', 'b'), ('a', 'c'), ('a', 'd'), ('b', 'a'), ('b', 'c'), ('b', 'd'), ('c', 'a'), ('c', 'b'), ('c', 'd'), ('d', 'a'), ('d', 'b'), ('d', 'c')]\n",
      "12\n"
     ]
    }
   ],
   "source": [
    "from itertools import permutations\n",
    "\n",
    "permutations_2 = list(permutations('abcd', 2))\n",
    "count = len(permutations_2)\n",
    "\n",
    "print(permutations_2)\n",
    "print(count)    # Simpler version than that above but formatting isn't as clean."
   ]
  },
  {
   "cell_type": "markdown",
   "id": "7f88899f",
   "metadata": {},
   "source": [
    "3.) Save **this file** as **profiles.json** inside of your exercises directory (right click -> save file as...).\n"
   ]
  },
  {
   "cell_type": "markdown",
   "id": "26bf1d57",
   "metadata": {},
   "source": [
    "Use the **load** function from the **json** module to open this file.\n"
   ]
  },
  {
   "cell_type": "code",
   "execution_count": 13,
   "id": "7a5f5ac1",
   "metadata": {},
   "outputs": [],
   "source": [
    "import json\n",
    "\n",
    "# storing in variable for future use\n",
    "profiles = json.load(open('profiles.json'))"
   ]
  },
  {
   "cell_type": "markdown",
   "id": "4f3facb6",
   "metadata": {},
   "source": [
    "Your code should produce a list of dictionaries. Using this data, write some code that calculates and outputs the following information:\n"
   ]
  },
  {
   "cell_type": "code",
   "execution_count": 14,
   "id": "0456968b",
   "metadata": {},
   "outputs": [
    {
     "data": {
      "text/plain": [
       "{'_id': '54e23c3e46ab53a440b580e8',\n",
       " 'index': 0,\n",
       " 'guid': '9962b468-ef3e-4993-b677-617469bc3008',\n",
       " 'isActive': False,\n",
       " 'balance': '$2,097.02',\n",
       " 'picture': 'http://placehold.it/32x32',\n",
       " 'age': 39,\n",
       " 'eyeColor': 'blue',\n",
       " 'name': 'Hebert Estes',\n",
       " 'gender': 'male',\n",
       " 'company': 'ANDRYX',\n",
       " 'email': 'hebertestes@andryx.com',\n",
       " 'phone': '+1 (866) 456-2268',\n",
       " 'address': '121 Emmons Avenue, Klondike, Kentucky, 5975',\n",
       " 'about': 'Sit cillum deserunt irure laboris tempor fugiat laboris. Amet commodo amet est incididunt. Dolore qui fugiat cillum pariatur dolore excepteur elit ipsum.\\r\\n',\n",
       " 'registered': '2014-11-10T01:44:03 +06:00',\n",
       " 'latitude': -80.157843,\n",
       " 'longitude': 161.93016,\n",
       " 'tags': ['sit', 'occaecat', 'non', 'ea', 'sit', 'laboris', 'exercitation'],\n",
       " 'friends': [{'id': 0, 'name': 'Tanisha Leonard'},\n",
       "  {'id': 1, 'name': 'Dennis Wilson'},\n",
       "  {'id': 2, 'name': 'Lupe Howe'}],\n",
       " 'greeting': 'Hello, Hebert Estes! You have 4 unread messages.',\n",
       " 'favoriteFruit': 'strawberry'}"
      ]
     },
     "execution_count": 14,
     "metadata": {},
     "output_type": "execute_result"
    }
   ],
   "source": [
    "profiles[0]\n",
    "# each dictionary in this list is a single profile or user or person"
   ]
  },
  {
   "cell_type": "code",
   "execution_count": 15,
   "id": "1e4ec93f",
   "metadata": {},
   "outputs": [
    {
     "data": {
      "text/plain": [
       "[1, 2]"
      ]
     },
     "execution_count": 15,
     "metadata": {},
     "output_type": "execute_result"
    }
   ],
   "source": [
    "# how to access a list\n",
    "my_list = [1,2,3,4]\n",
    "\n",
    "# subsetting only 1st to 3rd values non-inclusive\n",
    "my_list[0:2]"
   ]
  },
  {
   "cell_type": "code",
   "execution_count": 16,
   "id": "7a420619",
   "metadata": {},
   "outputs": [
    {
     "data": {
      "text/plain": [
       "23"
      ]
     },
     "execution_count": 16,
     "metadata": {},
     "output_type": "execute_result"
    }
   ],
   "source": [
    "# how to access a dictionary\n",
    "my_dict = {'a':0, 'b':23, 'c':4}\n",
    "\n",
    "# indexing by the key\n",
    "my_dict['b']"
   ]
  },
  {
   "cell_type": "code",
   "execution_count": 17,
   "id": "e692ead8",
   "metadata": {},
   "outputs": [
    {
     "data": {
      "text/plain": [
       "{'name': 'Mark', 'age': 29}"
      ]
     },
     "execution_count": 17,
     "metadata": {},
     "output_type": "execute_result"
    }
   ],
   "source": [
    "# access a list of dictionaries\n",
    "lst_dict = [{'name':'Mark', 'age':29}, {'name':'Eliza Thornberry', 'age':34}]\n",
    "\n",
    "# only returns first dictionary\n",
    "# to access multiple need to use a control\n",
    "# structure to iterate over the dictionaires \n",
    "lst_dict[0]"
   ]
  },
  {
   "cell_type": "code",
   "execution_count": 18,
   "id": "30858c93",
   "metadata": {},
   "outputs": [
    {
     "name": "stdout",
     "output_type": "stream",
     "text": [
      "Mark 29\n",
      "Eliza Thornberry 34\n"
     ]
    }
   ],
   "source": [
    "# now I can get separate dictionaries and access their elements individually\n",
    "for dictionary in lst_dict:\n",
    "    print(dictionary['name'], dictionary['age'])"
   ]
  },
  {
   "cell_type": "code",
   "execution_count": 19,
   "id": "d68a93a8",
   "metadata": {},
   "outputs": [
    {
     "data": {
      "text/plain": [
       "{'_id': '54e23c3e46ab53a440b580e8',\n",
       " 'index': 0,\n",
       " 'guid': '9962b468-ef3e-4993-b677-617469bc3008',\n",
       " 'isActive': False,\n",
       " 'balance': '$2,097.02',\n",
       " 'picture': 'http://placehold.it/32x32',\n",
       " 'age': 39,\n",
       " 'eyeColor': 'blue',\n",
       " 'name': 'Hebert Estes',\n",
       " 'gender': 'male',\n",
       " 'company': 'ANDRYX',\n",
       " 'email': 'hebertestes@andryx.com',\n",
       " 'phone': '+1 (866) 456-2268',\n",
       " 'address': '121 Emmons Avenue, Klondike, Kentucky, 5975',\n",
       " 'about': 'Sit cillum deserunt irure laboris tempor fugiat laboris. Amet commodo amet est incididunt. Dolore qui fugiat cillum pariatur dolore excepteur elit ipsum.\\r\\n',\n",
       " 'registered': '2014-11-10T01:44:03 +06:00',\n",
       " 'latitude': -80.157843,\n",
       " 'longitude': 161.93016,\n",
       " 'tags': ['sit', 'occaecat', 'non', 'ea', 'sit', 'laboris', 'exercitation'],\n",
       " 'friends': [{'id': 0, 'name': 'Tanisha Leonard'},\n",
       "  {'id': 1, 'name': 'Dennis Wilson'},\n",
       "  {'id': 2, 'name': 'Lupe Howe'}],\n",
       " 'greeting': 'Hello, Hebert Estes! You have 4 unread messages.',\n",
       " 'favoriteFruit': 'strawberry'}"
      ]
     },
     "execution_count": 19,
     "metadata": {},
     "output_type": "execute_result"
    }
   ],
   "source": [
    "profiles[0]"
   ]
  },
  {
   "cell_type": "markdown",
   "id": "7b95b06f",
   "metadata": {},
   "source": [
    "* Total number of users"
   ]
  },
  {
   "cell_type": "code",
   "execution_count": 20,
   "id": "c8d8576b",
   "metadata": {},
   "outputs": [
    {
     "data": {
      "text/plain": [
       "19"
      ]
     },
     "execution_count": 20,
     "metadata": {},
     "output_type": "execute_result"
    }
   ],
   "source": [
    "len(profiles)"
   ]
  },
  {
   "cell_type": "code",
   "execution_count": 21,
   "id": "90779989",
   "metadata": {},
   "outputs": [
    {
     "name": "stdout",
     "output_type": "stream",
     "text": [
      "Total number of users: 19\n"
     ]
    }
   ],
   "source": [
    "import json # If already imported, no need to do it everytime\n",
    "\n",
    "# Load data from the JSON file\n",
    "with open('profiles.json', 'r') as file:\n",
    "    profiles = json.load(file)\n",
    "\n",
    "# Calculate the total number of users (it's calculating the number of dictionaries in the list)\n",
    "total_users = len(profiles)\n",
    "\n",
    "# Output the result\n",
    "print(f'Total number of users: {total_users}')"
   ]
  },
  {
   "cell_type": "markdown",
   "id": "4161dfbe",
   "metadata": {},
   "source": [
    "* Number of active users\n"
   ]
  },
  {
   "cell_type": "code",
   "execution_count": 22,
   "id": "2c6fa875",
   "metadata": {},
   "outputs": [
    {
     "name": "stdout",
     "output_type": "stream",
     "text": [
      "Total number of active users: 9\n"
     ]
    }
   ],
   "source": [
    "# Assuming the 'data' variable still contains the loaded json data\n",
    "\n",
    "# Initialize a counter for active users\n",
    "active_users_count = 0\n",
    "\n",
    "# Iterate through each dictionary in the 'profiles' list\n",
    "for profile in profiles:\n",
    "    \n",
    "    #check if the 'status' key is set to True\n",
    "    if profile['isActive'] == True:\n",
    "        \n",
    "          # Increment the counter for active users\n",
    "            active_users_count += 1\n",
    "            \n",
    "# Print the total number of active users\n",
    "print(f'Total number of active users: {active_users_count}')"
   ]
  },
  {
   "cell_type": "markdown",
   "id": "f66582eb",
   "metadata": {},
   "source": [
    "* Number of inactive users\n"
   ]
  },
  {
   "cell_type": "code",
   "execution_count": 23,
   "id": "044a7447",
   "metadata": {},
   "outputs": [
    {
     "data": {
      "text/plain": [
       "10"
      ]
     },
     "execution_count": 23,
     "metadata": {},
     "output_type": "execute_result"
    }
   ],
   "source": [
    "count = 0\n",
    "\n",
    "for profile in profiles:\n",
    "    if profile['isActive'] == False:\n",
    "        count += 1\n",
    "count\n",
    "# 10 active users\n",
    "    "
   ]
  },
  {
   "cell_type": "markdown",
   "id": "3ba5cdf1",
   "metadata": {},
   "source": [
    "* Grand total of balances for all users\n"
   ]
  },
  {
   "cell_type": "code",
   "execution_count": 24,
   "id": "ca8eda75",
   "metadata": {},
   "outputs": [
    {
     "data": {
      "text/plain": [
       "'$2,097.02'"
      ]
     },
     "execution_count": 24,
     "metadata": {},
     "output_type": "execute_result"
    }
   ],
   "source": [
    "profiles[0]['balance']"
   ]
  },
  {
   "cell_type": "code",
   "execution_count": 25,
   "id": "6506e48c",
   "metadata": {},
   "outputs": [
    {
     "data": {
      "text/plain": [
       "52667.02"
      ]
     },
     "execution_count": 25,
     "metadata": {},
     "output_type": "execute_result"
    }
   ],
   "source": [
    "# using string methods\n",
    "\n",
    "#initial empty value to add what I want to keep\n",
    "grand_total = 0\n",
    "\n",
    "# looping over individual profiles\n",
    "for profile in profiles:\n",
    "    \n",
    "    # Stripping out non alpha characters\n",
    "    clean_balance = profile['balance'].replace('$', '').replace(',', '')\n",
    "    clean_balance = float(clean_balance) # casting to float to keep decimal precision\n",
    "    \n",
    "    grand_total += clean_balance\n",
    "    \n",
    "grand_total"
   ]
  },
  {
   "cell_type": "code",
   "execution_count": 26,
   "id": "3120ebb5",
   "metadata": {},
   "outputs": [],
   "source": [
    "# def handle_commas(fakenum):\n",
    "#     \"\"\"\n",
    "#     This function will:\n",
    "#     - check if input is a string\n",
    "#         -removes any commas\n",
    "#         -check if the stripped input is a digit\n",
    "#             - if True, returns input as an integer\n",
    "#             - False otherwise\n",
    "#     - if not a string, returns false stmt\n",
    "#     \"\"\"\n",
    "#     if type(fakenum) == str:\n",
    "#         stripfakenum = fakenum.replace('$', '').replace(\",\", \"\")\n",
    "#         if stripfakenum.isdigit():\n",
    "#             return int(stripfakenum)\n",
    "#         else:\n",
    "#             return False\n",
    "#     else:\n",
    "#         return False"
   ]
  },
  {
   "cell_type": "code",
   "execution_count": 29,
   "id": "b5877f07",
   "metadata": {},
   "outputs": [
    {
     "data": {
      "text/plain": [
       "0"
      ]
     },
     "execution_count": 29,
     "metadata": {},
     "output_type": "execute_result"
    }
   ],
   "source": [
    "# using pre-defined functions\n",
    "import importlib # make adjustments to functions without restarting kernel\n",
    "import function_exercises as f\n",
    "\n",
    "# just to make adjustments to my function without restarting kernel\n",
    "\n",
    "importlib.reload(f)\n",
    "\n",
    "grand_total = 0\n",
    "\n",
    "for profile in profiles:\n",
    "    # utilizing pre defined functions\n",
    "    grand_total += handle_commas(profile['balance'])\n",
    "    \n",
    "grand_total\n",
    "\n",
    "### I updated the .py file, but I still don't understand why it won't work... ###"
   ]
  },
  {
   "cell_type": "markdown",
   "id": "09f2ad06",
   "metadata": {},
   "source": [
    "* Average balance per user\n"
   ]
  },
  {
   "cell_type": "code",
   "execution_count": 31,
   "id": "ecb31214",
   "metadata": {},
   "outputs": [
    {
     "data": {
      "text/plain": [
       "2771.95"
      ]
     },
     "execution_count": 31,
     "metadata": {},
     "output_type": "execute_result"
    }
   ],
   "source": [
    "round(grand_total / len(profiles),2)"
   ]
  },
  {
   "cell_type": "markdown",
   "id": "f47a983c",
   "metadata": {},
   "source": [
    "* User with the lowest balance\n"
   ]
  },
  {
   "cell_type": "code",
   "execution_count": 30,
   "id": "2388a078",
   "metadata": {},
   "outputs": [
    {
     "data": {
      "text/plain": [
       "[2097.02,\n",
       " 3654.02,\n",
       " 1536.02,\n",
       " 3919.64,\n",
       " 3681.39,\n",
       " 1694.42,\n",
       " 1214.1,\n",
       " 2930.31,\n",
       " 1944.15,\n",
       " 2839.22,\n",
       " 2467.31,\n",
       " 3304.99,\n",
       " 3844.42,\n",
       " 3594.99,\n",
       " 2940.24,\n",
       " 3062.41,\n",
       " 3067.82,\n",
       " 2646.76,\n",
       " 2227.79]"
      ]
     },
     "execution_count": 30,
     "metadata": {},
     "output_type": "execute_result"
    }
   ],
   "source": [
    "# create a list of all balances\n",
    "balance_list = [float(x['balance'].strip('$').replace(',','')) for x in profiles]\n",
    "balance_list"
   ]
  },
  {
   "cell_type": "code",
   "execution_count": 31,
   "id": "11219a5d",
   "metadata": {},
   "outputs": [
    {
     "data": {
      "text/plain": [
       "[2097.02,\n",
       " 3654.02,\n",
       " 1536.02,\n",
       " 3919.64,\n",
       " 3681.39,\n",
       " 1694.42,\n",
       " 1214.1,\n",
       " 2930.31,\n",
       " 1944.15,\n",
       " 2839.22,\n",
       " 2467.31,\n",
       " 3304.99,\n",
       " 3844.42,\n",
       " 3594.99,\n",
       " 2940.24,\n",
       " 3062.41,\n",
       " 3067.82,\n",
       " 2646.76,\n",
       " 2227.79]"
      ]
     },
     "execution_count": 31,
     "metadata": {},
     "output_type": "execute_result"
    }
   ],
   "source": [
    "balance_list = []\n",
    "\n",
    "for profile in profiles:\n",
    "    clean_balance = profile['balance'].strip('$').replace(',', '') #Stripping out string characters\n",
    "    clean_balance = float(clean_balance) # casting to float to keep decimal precision\n",
    "    balance_list.append(clean_balance)\n",
    "balance_list"
   ]
  },
  {
   "cell_type": "code",
   "execution_count": 32,
   "id": "c7728e83",
   "metadata": {},
   "outputs": [
    {
     "data": {
      "text/plain": [
       "1214.1"
      ]
     },
     "execution_count": 32,
     "metadata": {},
     "output_type": "execute_result"
    }
   ],
   "source": [
    "min_balance = min(balance_list)\n",
    "min_balance"
   ]
  },
  {
   "cell_type": "code",
   "execution_count": 33,
   "id": "ab62bdd5",
   "metadata": {},
   "outputs": [
    {
     "name": "stdout",
     "output_type": "stream",
     "text": [
      "Avery Flynn 1214.1\n"
     ]
    }
   ],
   "source": [
    "# using string methods to clean\n",
    "\n",
    "# create for loop to iterate over profiles\n",
    "for profile in profiles:\n",
    "    clean_balance = float(profile['balance'].strip('$').replace(',', ''))\n",
    "    \n",
    "    # using condition to test if balance is == minimum balance\n",
    "    if clean_balance == min_balance:\n",
    "        print(profile['name'], clean_balance)"
   ]
  },
  {
   "cell_type": "code",
   "execution_count": 36,
   "id": "62bf5186",
   "metadata": {},
   "outputs": [],
   "source": [
    "# using pre defined functions to clean\n",
    "\n",
    "for profile in profiles:\n",
    "    if handle_commas(profile['balance']) == min_balance:\n",
    "        print(profile['name'],profile['balance'])\n",
    "        \n",
    "# I'm sure my function names are the same so idk why nothing will print"
   ]
  },
  {
   "cell_type": "markdown",
   "id": "b5fa62fd",
   "metadata": {},
   "source": [
    "* User with the highest balance\n"
   ]
  },
  {
   "cell_type": "code",
   "execution_count": 39,
   "id": "3a45205f",
   "metadata": {},
   "outputs": [
    {
     "name": "stdout",
     "output_type": "stream",
     "text": [
      "Fay Hammond 3919.64\n"
     ]
    }
   ],
   "source": [
    "max_balance = max(balance_list)\n",
    "\n",
    "# string methods to clean\n",
    "for profile in profiles:\n",
    "    clean_balance = profile['balance'].strip('$').replace(',','') #striping out string characters\n",
    "    clean_balance = float(clean_balance) #converting to float  \n",
    "    if clean_balance == max(balance_list): #changing from min to max balance list\n",
    "        print(profile['name'], clean_balance)"
   ]
  },
  {
   "cell_type": "code",
   "execution_count": 40,
   "id": "96c931b7",
   "metadata": {},
   "outputs": [],
   "source": [
    "# pre-defined functions to clean\n",
    "for profile in profiles:\n",
    "    if handle_commas(profile['balance']) == max_balance:\n",
    "        print(profile['name'],profile['balance'])"
   ]
  },
  {
   "cell_type": "markdown",
   "id": "c1d0bc82",
   "metadata": {},
   "source": [
    "* Most common favorite fruit\n"
   ]
  },
  {
   "cell_type": "code",
   "execution_count": 41,
   "id": "3fd9a554",
   "metadata": {},
   "outputs": [
    {
     "data": {
      "text/plain": [
       "'strawberry'"
      ]
     },
     "execution_count": 41,
     "metadata": {},
     "output_type": "execute_result"
    }
   ],
   "source": [
    "profiles[0]['favoriteFruit']"
   ]
  },
  {
   "cell_type": "code",
   "execution_count": 48,
   "id": "cd804f64",
   "metadata": {},
   "outputs": [
    {
     "data": {
      "text/plain": [
       "['strawberry',\n",
       " 'apple',\n",
       " 'apple',\n",
       " 'banana',\n",
       " 'apple',\n",
       " 'apple',\n",
       " 'banana',\n",
       " 'strawberry',\n",
       " 'strawberry',\n",
       " 'banana',\n",
       " 'strawberry',\n",
       " 'strawberry',\n",
       " 'apple',\n",
       " 'strawberry',\n",
       " 'strawberry',\n",
       " 'banana',\n",
       " 'strawberry',\n",
       " 'apple',\n",
       " 'strawberry']"
      ]
     },
     "execution_count": 48,
     "metadata": {},
     "output_type": "execute_result"
    }
   ],
   "source": [
    "# empty list to add to\n",
    "fruit_ls = []\n",
    "\n",
    "for profile in profiles:\n",
    "    fruit_ls.append(profile['favoriteFruit'])\n",
    "fruit_ls"
   ]
  },
  {
   "cell_type": "code",
   "execution_count": 43,
   "id": "c8a33926",
   "metadata": {},
   "outputs": [
    {
     "data": {
      "text/plain": [
       "{'apple', 'banana', 'strawberry'}"
      ]
     },
     "execution_count": 43,
     "metadata": {},
     "output_type": "execute_result"
    }
   ],
   "source": [
    "# turn list into set to only return unique values\n",
    "set(fruit_ls)"
   ]
  },
  {
   "cell_type": "code",
   "execution_count": 44,
   "id": "d4249517",
   "metadata": {},
   "outputs": [
    {
     "data": {
      "text/plain": [
       "6"
      ]
     },
     "execution_count": 44,
     "metadata": {},
     "output_type": "execute_result"
    }
   ],
   "source": [
    "# more manual way to cfalculate most common favorite fruit\n",
    "fruit_ls.count('apple')"
   ]
  },
  {
   "cell_type": "code",
   "execution_count": 45,
   "id": "ad0a723c",
   "metadata": {},
   "outputs": [
    {
     "data": {
      "text/plain": [
       "4"
      ]
     },
     "execution_count": 45,
     "metadata": {},
     "output_type": "execute_result"
    }
   ],
   "source": [
    "fruit_ls.count('banana')"
   ]
  },
  {
   "cell_type": "code",
   "execution_count": 46,
   "id": "7465170d",
   "metadata": {},
   "outputs": [
    {
     "data": {
      "text/plain": [
       "9"
      ]
     },
     "execution_count": 46,
     "metadata": {},
     "output_type": "execute_result"
    }
   ],
   "source": [
    "fruit_ls.count('strawberry')"
   ]
  },
  {
   "cell_type": "code",
   "execution_count": 49,
   "id": "2f2c5629",
   "metadata": {},
   "outputs": [
    {
     "data": {
      "text/plain": [
       "strawberry    9\n",
       "apple         6\n",
       "banana        4\n",
       "Name: count, dtype: int64"
      ]
     },
     "execution_count": 49,
     "metadata": {},
     "output_type": "execute_result"
    }
   ],
   "source": [
    "# coming soon way using pandas library\n",
    "\n",
    "import pandas as pd\n",
    "\n",
    "# converting to series\n",
    "fruit_ls = pd.Series(fruit_ls)\n",
    "\n",
    "fruit_ls.value_counts()"
   ]
  },
  {
   "cell_type": "code",
   "execution_count": 50,
   "id": "47942ebb",
   "metadata": {},
   "outputs": [
    {
     "data": {
      "text/plain": [
       "{'strawberry': 9, 'apple': 6, 'banana': 4}"
      ]
     },
     "execution_count": 50,
     "metadata": {},
     "output_type": "execute_result"
    }
   ],
   "source": [
    "# dictionary way\n",
    "fruit_dict = {}\n",
    "\n",
    "for profile in profiles:\n",
    "    \n",
    "    fruit = profile['favoriteFruit']\n",
    "    \n",
    "    if fruit in fruit_dict:\n",
    "        fruit_dict[fruit] += 1 # Increment the count if the fruit is already in the dictionary\n",
    "    else:\n",
    "        fruit_dict[fruit] = 1 # Initialize the count to 1 if it's a new fruit\n",
    "            \n",
    "fruit_dict"
   ]
  },
  {
   "cell_type": "markdown",
   "id": "7a0cd66e",
   "metadata": {},
   "source": [
    "* Least most common favorite fruit\n"
   ]
  },
  {
   "cell_type": "code",
   "execution_count": 51,
   "id": "a93d3ddd",
   "metadata": {},
   "outputs": [
    {
     "data": {
      "text/plain": [
       "'apple'"
      ]
     },
     "execution_count": 51,
     "metadata": {},
     "output_type": "execute_result"
    }
   ],
   "source": [
    "min(fruit_ls)\n",
    "# gives apple rather than banana because it's returning the min alphabetically\n"
   ]
  },
  {
   "cell_type": "code",
   "execution_count": 52,
   "id": "6736c285",
   "metadata": {},
   "outputs": [],
   "source": [
    "# fruit_ls.count"
   ]
  },
  {
   "cell_type": "code",
   "execution_count": 55,
   "id": "30fc14c2",
   "metadata": {},
   "outputs": [
    {
     "ename": "TypeError",
     "evalue": "Series.count() takes 1 positional argument but 2 were given",
     "output_type": "error",
     "traceback": [
      "\u001b[0;31m---------------------------------------------------------------------------\u001b[0m",
      "\u001b[0;31mTypeError\u001b[0m                                 Traceback (most recent call last)",
      "Cell \u001b[0;32mIn[55], line 3\u001b[0m\n\u001b[1;32m      1\u001b[0m \u001b[38;5;66;03m# adjust the key argument in the min function\u001b[39;00m\n\u001b[1;32m      2\u001b[0m \u001b[38;5;66;03m# key parameter is function to customize the sortin parameters\u001b[39;00m\n\u001b[0;32m----> 3\u001b[0m \u001b[38;5;28mmin\u001b[39m(fruit_ls, key\u001b[38;5;241m=\u001b[39mfruit_ls\u001b[38;5;241m.\u001b[39mcount)\n",
      "\u001b[0;31mTypeError\u001b[0m: Series.count() takes 1 positional argument but 2 were given"
     ]
    }
   ],
   "source": [
    "# adjust the key argument in the min function\n",
    "# key parameter is function to customize the sortin parameters\n",
    "min(fruit_ls, key=fruit_ls.count)\n"
   ]
  },
  {
   "cell_type": "code",
   "execution_count": null,
   "id": "5d117cb6",
   "metadata": {},
   "outputs": [],
   "source": []
  },
  {
   "cell_type": "markdown",
   "id": "13359c00",
   "metadata": {},
   "source": [
    "* Total number of unread messages for all users\n"
   ]
  },
  {
   "cell_type": "code",
   "execution_count": 56,
   "id": "4262fdfa",
   "metadata": {},
   "outputs": [
    {
     "data": {
      "text/plain": [
       "'Hello, Hebert Estes! You have 4 unread messages.'"
      ]
     },
     "execution_count": 56,
     "metadata": {},
     "output_type": "execute_result"
    }
   ],
   "source": [
    "profiles[0]['greeting']"
   ]
  },
  {
   "cell_type": "code",
   "execution_count": 57,
   "id": "dc4b49f4",
   "metadata": {},
   "outputs": [
    {
     "data": {
      "text/plain": [
       "['Hello,', 'Hebert', 'Estes!', 'You', 'have', '4', 'unread', 'messages.']"
      ]
     },
     "execution_count": 57,
     "metadata": {},
     "output_type": "execute_result"
    }
   ],
   "source": [
    "profiles[0]['greeting'].split(' ')"
   ]
  },
  {
   "cell_type": "code",
   "execution_count": 58,
   "id": "59d63f58",
   "metadata": {},
   "outputs": [
    {
     "data": {
      "text/plain": [
       "210"
      ]
     },
     "execution_count": 58,
     "metadata": {},
     "output_type": "execute_result"
    }
   ],
   "source": [
    "# empty var to add ints to\n",
    "total_unread = 0\n",
    "\n",
    "# looping over individual profiles\n",
    "for profile in profiles:\n",
    "    # storing split message greeting in a variable\n",
    "    message = profile['greeting'].split()\n",
    "    \n",
    "    #loop over split message and look for digits to add to total_unread\n",
    "    for word in message:\n",
    "        \n",
    "        # checking if word is a digit\n",
    "        if word.isdigit():\n",
    "            word = int(word) # casting to int for math calculations\n",
    "            total_unread += word\n",
    "        \n",
    "total_unread"
   ]
  },
  {
   "cell_type": "code",
   "execution_count": null,
   "id": "05742c0d",
   "metadata": {},
   "outputs": [],
   "source": []
  },
  {
   "cell_type": "code",
   "execution_count": null,
   "id": "5f9784e9",
   "metadata": {},
   "outputs": [],
   "source": [
    "# what if greeting message changes to you have received"
   ]
  },
  {
   "cell_type": "markdown",
   "id": "59c11a94",
   "metadata": {},
   "source": [
    "### BONUS\n",
    "\n",
    "Continue to use the list of dictionaries."
   ]
  },
  {
   "cell_type": "markdown",
   "id": "b54d6056",
   "metadata": {},
   "source": [
    "* Find out how many total unique tags there are for all users\n"
   ]
  },
  {
   "cell_type": "code",
   "execution_count": null,
   "id": "4ad903d3",
   "metadata": {},
   "outputs": [],
   "source": []
  },
  {
   "cell_type": "markdown",
   "id": "b0177f9c",
   "metadata": {},
   "source": [
    "* Display a user's name and all of their respective friends"
   ]
  },
  {
   "cell_type": "code",
   "execution_count": null,
   "id": "bd1479d4",
   "metadata": {},
   "outputs": [],
   "source": []
  }
 ],
 "metadata": {
  "kernelspec": {
   "display_name": "Python 3 (ipykernel)",
   "language": "python",
   "name": "python3"
  },
  "language_info": {
   "codemirror_mode": {
    "name": "ipython",
    "version": 3
   },
   "file_extension": ".py",
   "mimetype": "text/x-python",
   "name": "python",
   "nbconvert_exporter": "python",
   "pygments_lexer": "ipython3",
   "version": "3.11.5"
  }
 },
 "nbformat": 4,
 "nbformat_minor": 5
}
