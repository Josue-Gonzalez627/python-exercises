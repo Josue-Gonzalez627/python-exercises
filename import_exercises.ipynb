{
 "cells": [
  {
   "cell_type": "markdown",
   "id": "e204de03",
   "metadata": {},
   "source": [
    "### Exercises\n",
    "You will need to use imports to complete each exercise. These exercises will also strengthen your problem solving and python coding skills.\n",
    "\n",
    "You will be directed to create specific files in part 1, for the rest you may do your work in either **import_exercises.py** or **import_exercises.ipynb**.\n"
   ]
  },
  {
   "cell_type": "markdown",
   "id": "0d8117c4",
   "metadata": {},
   "source": [
    "1.) Import and test 3 of the functions from your functions exercise file. Import each function in a different way:\n"
   ]
  },
  {
   "cell_type": "markdown",
   "id": "e782f688",
   "metadata": {},
   "source": [
    "a.) Run an interactive python session and import the module. Call the **is_vowel** function using the **.** syntax.\n"
   ]
  },
  {
   "cell_type": "code",
   "execution_count": 3,
   "id": "6496e2a5",
   "metadata": {},
   "outputs": [
    {
     "data": {
      "text/plain": [
       "True"
      ]
     },
     "execution_count": 3,
     "metadata": {},
     "output_type": "execute_result"
    }
   ],
   "source": [
    "from function_exercises import is_vowel\n",
    "is_vowel('e')\n",
    "# Did this inside of the terminal and it works *"
   ]
  },
  {
   "cell_type": "markdown",
   "id": "18cd6ec7",
   "metadata": {},
   "source": [
    "b.) Create a file named **import_exercises.py**. Within this file, use **from** to import the **calculate_tip** function directly. Call this function with values you choose and print the result.\n"
   ]
  },
  {
   "cell_type": "code",
   "execution_count": null,
   "id": "5f7eed13",
   "metadata": {},
   "outputs": [],
   "source": []
  },
  {
   "cell_type": "markdown",
   "id": "97d352ef",
   "metadata": {},
   "source": [
    "c.) Create a jupyter notebook named **import_exercises.ipynb**. Use **from** to import the **get_letter_grade** function and give it an alias. Test this function in your notebook.\n"
   ]
  },
  {
   "cell_type": "code",
   "execution_count": null,
   "id": "1d62d0a2",
   "metadata": {},
   "outputs": [],
   "source": []
  },
  {
   "cell_type": "markdown",
   "id": "028b5000",
   "metadata": {},
   "source": [
    "Make sure your code that tests the function imports is run from the same directory that your functions exercise file is in.\n"
   ]
  },
  {
   "cell_type": "markdown",
   "id": "bda76207",
   "metadata": {},
   "source": [
    "2.) Read about and use the **itertools** module from the python standard library to help you solve the following problems. Note: Many of these functions in this library return an object, to see the results of the function, cast this object as a list.\n"
   ]
  },
  {
   "cell_type": "markdown",
   "id": "5aa48a09",
   "metadata": {},
   "source": [
    "* How many different ways can you combine a single letter from \"abc\" with either 1, 2, or 3?"
   ]
  },
  {
   "cell_type": "code",
   "execution_count": null,
   "id": "496d78e1",
   "metadata": {},
   "outputs": [],
   "source": []
  },
  {
   "cell_type": "markdown",
   "id": "88c8b6e5",
   "metadata": {},
   "source": [
    "* How many different combinations are there of 2 letters from \"abcd\"?"
   ]
  },
  {
   "cell_type": "code",
   "execution_count": null,
   "id": "edfa66ec",
   "metadata": {},
   "outputs": [],
   "source": []
  },
  {
   "cell_type": "markdown",
   "id": "b694f46e",
   "metadata": {},
   "source": [
    "* How many different permutations are there of 2 letters from \"abcd\"?"
   ]
  },
  {
   "cell_type": "code",
   "execution_count": null,
   "id": "b6ae8e9b",
   "metadata": {},
   "outputs": [],
   "source": []
  },
  {
   "cell_type": "markdown",
   "id": "34256128",
   "metadata": {},
   "source": [
    "3.) Save **this file** as **profiles.json** inside of your exercises directory (right click -> save file as...).\n"
   ]
  },
  {
   "cell_type": "markdown",
   "id": "e830cf3d",
   "metadata": {},
   "source": [
    "Use the **load** function from the **json** module to open this file.\n"
   ]
  },
  {
   "cell_type": "code",
   "execution_count": null,
   "id": "373355e4",
   "metadata": {},
   "outputs": [],
   "source": [
    "import json\n",
    "\n",
    "json.load(open('profiles.json'))"
   ]
  },
  {
   "cell_type": "markdown",
   "id": "a2441049",
   "metadata": {},
   "source": [
    "Your code should produce a list of dictionaries. Using this data, write some code that calculates and outputs the following information:\n"
   ]
  },
  {
   "cell_type": "markdown",
   "id": "ee54749f",
   "metadata": {},
   "source": [
    "* Total number of users"
   ]
  },
  {
   "cell_type": "code",
   "execution_count": null,
   "id": "6d0ca77f",
   "metadata": {},
   "outputs": [],
   "source": []
  },
  {
   "cell_type": "markdown",
   "id": "a6768014",
   "metadata": {},
   "source": [
    "* Number of active users\n"
   ]
  },
  {
   "cell_type": "code",
   "execution_count": null,
   "id": "ebd98ef8",
   "metadata": {},
   "outputs": [],
   "source": []
  },
  {
   "cell_type": "markdown",
   "id": "b9f2e0be",
   "metadata": {},
   "source": [
    "* Number of inactive users\n"
   ]
  },
  {
   "cell_type": "code",
   "execution_count": null,
   "id": "e1c2be1e",
   "metadata": {},
   "outputs": [],
   "source": []
  },
  {
   "cell_type": "markdown",
   "id": "c671a6ca",
   "metadata": {},
   "source": [
    "* Grand total of balances for all users\n"
   ]
  },
  {
   "cell_type": "code",
   "execution_count": null,
   "id": "a0d7ffb4",
   "metadata": {},
   "outputs": [],
   "source": []
  },
  {
   "cell_type": "markdown",
   "id": "c21f5912",
   "metadata": {},
   "source": [
    "* Average balance per user\n"
   ]
  },
  {
   "cell_type": "code",
   "execution_count": null,
   "id": "f0ab3231",
   "metadata": {},
   "outputs": [],
   "source": []
  },
  {
   "cell_type": "markdown",
   "id": "09be70c8",
   "metadata": {},
   "source": [
    "* User with the lowest balance\n"
   ]
  },
  {
   "cell_type": "code",
   "execution_count": null,
   "id": "9d139d32",
   "metadata": {},
   "outputs": [],
   "source": []
  },
  {
   "cell_type": "markdown",
   "id": "e6ce0c67",
   "metadata": {},
   "source": [
    "* User with the highest balance\n"
   ]
  },
  {
   "cell_type": "code",
   "execution_count": null,
   "id": "96566be7",
   "metadata": {},
   "outputs": [],
   "source": []
  },
  {
   "cell_type": "markdown",
   "id": "e97b133e",
   "metadata": {},
   "source": [
    "* Most common favorite fruit\n"
   ]
  },
  {
   "cell_type": "code",
   "execution_count": null,
   "id": "7ca0d2a7",
   "metadata": {},
   "outputs": [],
   "source": []
  },
  {
   "cell_type": "markdown",
   "id": "c0f6ca4a",
   "metadata": {},
   "source": [
    "* Least most common favorite fruit\n"
   ]
  },
  {
   "cell_type": "code",
   "execution_count": null,
   "id": "ec140656",
   "metadata": {},
   "outputs": [],
   "source": []
  },
  {
   "cell_type": "markdown",
   "id": "f9099f4c",
   "metadata": {},
   "source": [
    "* Total number of unread messages for all users\n"
   ]
  },
  {
   "cell_type": "code",
   "execution_count": null,
   "id": "fe832ebb",
   "metadata": {},
   "outputs": [],
   "source": []
  },
  {
   "cell_type": "markdown",
   "id": "457f4f89",
   "metadata": {},
   "source": [
    "### BONUS\n",
    "\n",
    "Continue to use the list of dictionaries."
   ]
  },
  {
   "cell_type": "markdown",
   "id": "eefa962f",
   "metadata": {},
   "source": [
    "* Find out how many total unique tags there are for all users\n"
   ]
  },
  {
   "cell_type": "code",
   "execution_count": null,
   "id": "ee24117c",
   "metadata": {},
   "outputs": [],
   "source": []
  },
  {
   "cell_type": "markdown",
   "id": "85bebe0d",
   "metadata": {},
   "source": [
    "* Display a user's name and all of their respective friends"
   ]
  },
  {
   "cell_type": "code",
   "execution_count": null,
   "id": "bf308862",
   "metadata": {},
   "outputs": [],
   "source": []
  }
 ],
 "metadata": {
  "kernelspec": {
   "display_name": "Python 3 (ipykernel)",
   "language": "python",
   "name": "python3"
  },
  "language_info": {
   "codemirror_mode": {
    "name": "ipython",
    "version": 3
   },
   "file_extension": ".py",
   "mimetype": "text/x-python",
   "name": "python",
   "nbconvert_exporter": "python",
   "pygments_lexer": "ipython3",
   "version": "3.11.5"
  }
 },
 "nbformat": 4,
 "nbformat_minor": 5
}
