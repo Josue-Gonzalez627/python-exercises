{
 "cells": [
  {
   "cell_type": "markdown",
   "id": "2c563307",
   "metadata": {},
   "source": [
    "# 1. Conditional Basics\n",
    "\n",
    "### Prompt the user for a day of the week, print out whether the day is Monday or not"
   ]
  },
  {
   "cell_type": "code",
   "execution_count": 7,
   "id": "b04809d9",
   "metadata": {},
   "outputs": [
    {
     "name": "stdout",
     "output_type": "stream",
     "text": [
      "Enter a day of the week: tuesday\n",
      "no, it's not Monday.\n"
     ]
    }
   ],
   "source": [
    "day_of_week = input('Enter a day of the week: ')\n",
    "\n",
    "if day_of_week.lower() == 'monday':\n",
    "    print(\"Yes, it's Monday.\")\n",
    "else:\n",
    "    print(\"no, it's not Monday.\")"
   ]
  },
  {
   "cell_type": "markdown",
   "id": "db8a23c1",
   "metadata": {},
   "source": [
    "### Prompt the user for a day of the week, print out whether the day is a weekday or a weekend\n"
   ]
  },
  {
   "cell_type": "code",
   "execution_count": 9,
   "id": "aaa0b7c7",
   "metadata": {},
   "outputs": [
    {
     "name": "stdout",
     "output_type": "stream",
     "text": [
      "Enter another day of the week: saturday\n",
      "Yay it's a weekend.\n"
     ]
    }
   ],
   "source": [
    "day_of_week = input('Enter another day of the week: ')\n",
    "\n",
    "if day_of_week.lower() in ['monday', 'tuesday', 'wednesday', 'thursday','friday']:\n",
    "    print(\"It's a weekday.\")\n",
    "else:\n",
    "    print(\"Yay it's a weekend.\")"
   ]
  },
  {
   "cell_type": "markdown",
   "id": "716b9232",
   "metadata": {},
   "source": [
    "### Calculate a weekly paycheck, accounting for overtime pay. Create variables and make up values for:\n",
    "* The number of hours worked in one week\n",
    "* The hourly rate"
   ]
  },
  {
   "cell_type": "markdown",
   "id": "dd71752b",
   "metadata": {},
   "source": [
    "### For calculating pay: (Psuedo Code)\n",
    "* For working 40 hours or less, each hour is paid at the hourly rate\n",
    "* For working more than 40 hours\n",
    "    * the first 40 hours are paid at the hourly rate\n",
    "    * each hour after 40 is paid at time and a half (hourly rate * 1.5)"
   ]
  },
  {
   "cell_type": "code",
   "execution_count": 10,
   "id": "a72c76dd",
   "metadata": {},
   "outputs": [
    {
     "name": "stdout",
     "output_type": "stream",
     "text": [
      "Enter the number of hours worked in one week: 70\n",
      "Enter the hourly rate: 45\n",
      "Weekly paycheck: $ 3825.0\n"
     ]
    }
   ],
   "source": [
    "hours_worked = float(input('Enter the number of hours worked in one week: '))\n",
    "hourly_rate = float(input('Enter the hourly rate: '))\n",
    "        \n",
    "if hours_worked <= 40:\n",
    "    weekly_pay = hours_worked * hourly_rate\n",
    "else:\n",
    "    regular_hours_pay = 40 * hourly_rate\n",
    "    overtime_hours_pay = (hours_worked - 40) * (hourly_rate * 1.5)\n",
    "    weekly_pay = regular_hours_pay + overtime_hours_pay\n",
    "\n",
    "print('Weekly paycheck: $', weekly_pay)"
   ]
  },
  {
   "cell_type": "markdown",
   "id": "b29503a9",
   "metadata": {},
   "source": [
    "# 2. Loop Basics\n",
    "\n",
    "### a. While\n",
    "\n",
    "* Create an integer variable i with a value of 5. \n",
    "* Create a while loop that runs so long as i is less than or equal to 15. \n",
    "* Each loop iteration, output the current value of i, then increment i by one."
   ]
  },
  {
   "cell_type": "code",
   "execution_count": 11,
   "id": "9c690665",
   "metadata": {},
   "outputs": [
    {
     "name": "stdout",
     "output_type": "stream",
     "text": [
      "5\n",
      "6\n",
      "7\n",
      "8\n",
      "9\n",
      "10\n",
      "11\n",
      "12\n",
      "13\n",
      "14\n",
      "15\n"
     ]
    }
   ],
   "source": [
    "i = 5\n",
    "while i <= 15:\n",
    "    print(i)\n",
    "    i += 1"
   ]
  },
  {
   "cell_type": "markdown",
   "id": "18084706",
   "metadata": {},
   "source": [
    "#### i. Create a while loop that will count by 2's starting with 0 and ending at 100. \n",
    "* Follow each number with a new line."
   ]
  },
  {
   "cell_type": "code",
   "execution_count": 15,
   "id": "4c046384",
   "metadata": {
    "collapsed": true
   },
   "outputs": [
    {
     "name": "stdout",
     "output_type": "stream",
     "text": [
      "0\n",
      "2\n",
      "4\n",
      "6\n",
      "8\n",
      "10\n",
      "12\n",
      "14\n",
      "16\n",
      "18\n",
      "20\n",
      "22\n",
      "24\n",
      "26\n",
      "28\n",
      "30\n",
      "32\n",
      "34\n",
      "36\n",
      "38\n",
      "40\n",
      "42\n",
      "44\n",
      "46\n",
      "48\n",
      "50\n",
      "52\n",
      "54\n",
      "56\n",
      "58\n",
      "60\n",
      "62\n",
      "64\n",
      "66\n",
      "68\n",
      "70\n",
      "72\n",
      "74\n",
      "76\n",
      "78\n",
      "80\n",
      "82\n",
      "84\n",
      "86\n",
      "88\n",
      "90\n",
      "92\n",
      "94\n",
      "96\n",
      "98\n",
      "100\n"
     ]
    }
   ],
   "source": [
    "i = 0\n",
    "while i <= 100:\n",
    "    print(i)\n",
    "    i += 2"
   ]
  },
  {
   "cell_type": "markdown",
   "id": "9265e2e7",
   "metadata": {},
   "source": [
    "#### ii. Create a while loop that starts at 2, and displays the number squared on\n",
    "* each line while the number is less than 1,000,000. Output should equal:"
   ]
  },
  {
   "cell_type": "code",
   "execution_count": 16,
   "id": "30386d50",
   "metadata": {},
   "outputs": [
    {
     "name": "stdout",
     "output_type": "stream",
     "text": [
      "2\n",
      "4\n",
      "16\n",
      "256\n",
      "65536\n"
     ]
    }
   ],
   "source": [
    "i = 2\n",
    "while i <= 1_000_000:\n",
    "    print(i)\n",
    "    i **= 2"
   ]
  },
  {
   "cell_type": "markdown",
   "id": "424c216c",
   "metadata": {},
   "source": [
    "#### iii. Write a while loop that uses print to create the output shown below...\n"
   ]
  },
  {
   "cell_type": "code",
   "execution_count": null,
   "id": "76cdeb94",
   "metadata": {},
   "outputs": [],
   "source": [
    "i = 100\n",
    "while i >= 5:\n",
    "    print(i)\n",
    "    i -= 5"
   ]
  },
  {
   "cell_type": "code",
   "execution_count": 17,
   "id": "008ca605",
   "metadata": {
    "collapsed": true
   },
   "outputs": [
    {
     "data": {
      "text/plain": [
       "range"
      ]
     },
     "execution_count": 17,
     "metadata": {},
     "output_type": "execute_result"
    }
   ],
   "source": [
    "range\n",
    "# Shift + Tab for the term above and the term will be explained!! Very handy!"
   ]
  },
  {
   "cell_type": "markdown",
   "id": "6d048ba1",
   "metadata": {},
   "source": [
    "# b. For Loops\n",
    "\n",
    "### i. Write some code using a for loop that prompts the user for a number, then shows a multiplication table up through 10 for that number.\n",
    "\n",
    "* For example, if the user enters 7, your program should output:"
   ]
  },
  {
   "cell_type": "code",
   "execution_count": 24,
   "id": "1cf17967",
   "metadata": {
    "collapsed": true
   },
   "outputs": [
    {
     "name": "stdout",
     "output_type": "stream",
     "text": [
      "Enter a number: 7\n",
      "Multiplication table for 7:\n",
      "7 x 1 = 7\n",
      "7 x 2 = 14\n",
      "7 x 3 = 21\n",
      "7 x 4 = 28\n",
      "7 x 5 = 35\n",
      "7 x 6 = 42\n",
      "7 x 7 = 49\n",
      "7 x 8 = 56\n",
      "7 x 9 = 63\n",
      "7 x 10 = 70\n"
     ]
    }
   ],
   "source": [
    "number = int(input('Enter a number: '))\n",
    "\n",
    "print(f\"Multiplication table for {number}:\")\n",
    "    \n",
    "for i in range(1, 11):\n",
    "    result = number * i\n",
    "    print(f\"{number} x {i} = {result}\")"
   ]
  },
  {
   "cell_type": "markdown",
   "id": "8f7188f4",
   "metadata": {},
   "source": [
    "### Very similar"
   ]
  },
  {
   "cell_type": "code",
   "execution_count": 23,
   "id": "a789257f",
   "metadata": {
    "collapsed": true
   },
   "outputs": [
    {
     "name": "stdout",
     "output_type": "stream",
     "text": [
      "Enter a number:7\n",
      "7 x 1 = 7\n",
      "7 x 2 = 14\n",
      "7 x 3 = 21\n",
      "7 x 4 = 28\n",
      "7 x 5 = 35\n",
      "7 x 6 = 42\n",
      "7 x 7 = 49\n",
      "7 x 8 = 56\n",
      "7 x 9 = 63\n",
      "7 x 10 = 70\n"
     ]
    }
   ],
   "source": [
    "# Another way:\n",
    "user_input = input('Enter a number:')\n",
    "\n",
    "for i in range(1,11):\n",
    "    multiply = int(user_input) * i\n",
    "    \n",
    "    print(f'{user_input} x {i} = {multiply}') # f'string option\n",
    "    \n",
    "# print(user_input, ' x ', i, '=' , multiply) # regular strings option"
   ]
  },
  {
   "cell_type": "markdown",
   "id": "7a3bf288",
   "metadata": {},
   "source": [
    "### ii. Create a for loop that uses print to create the output shown below..."
   ]
  },
  {
   "cell_type": "code",
   "execution_count": 20,
   "id": "d8a39010",
   "metadata": {},
   "outputs": [
    {
     "name": "stdout",
     "output_type": "stream",
     "text": [
      "1\n",
      "22\n",
      "333\n",
      "4444\n",
      "55555\n",
      "666666\n",
      "7777777\n",
      "88888888\n",
      "999999999\n"
     ]
    }
   ],
   "source": [
    "for i in range(1, 10):\n",
    "    for j in range(i):\n",
    "        print(i, end=\"\")\n",
    "    print()"
   ]
  },
  {
   "cell_type": "markdown",
   "id": "5ced3b43",
   "metadata": {},
   "source": [
    "# c. break and continue\n",
    "\n",
    "### i. Write a program that prompts the user for a positive integer. \n",
    "* Next write a loop that prints out the numbers from the number the user entered down to 1.\n"
   ]
  },
  {
   "cell_type": "code",
   "execution_count": 25,
   "id": "2ac3fe67",
   "metadata": {
    "collapsed": true
   },
   "outputs": [
    {
     "name": "stdout",
     "output_type": "stream",
     "text": [
      "Enter a positive integer: 10\n",
      "Counting down from 10 to 1:\n",
      "10\n",
      "9\n",
      "8\n",
      "7\n",
      "6\n",
      "5\n",
      "4\n",
      "3\n",
      "2\n",
      "1\n"
     ]
    }
   ],
   "source": [
    "user_input = input(\"Enter a positive integer: \")\n",
    "\n",
    "try:\n",
    "    number = int(user_input)\n",
    "    if number <= 0:\n",
    "        raise ValueError(\"Please enter a positive integer.\")\n",
    "except ValueError:\n",
    "    print(\"Invalid input. Please enter a positive integer.\")\n",
    "else:\n",
    "    # Print numbers from the entered input down to 1\n",
    "    print(f\"Counting down from {number} to 1:\")\n",
    "    for i in range (number, 0, -1): # 0 means where it'll go up to, but NOT include\n",
    "                                    # -1 means the iterator variable should be decremented by 1 in each iteration\n",
    "        print(i)\n"
   ]
  },
  {
   "cell_type": "markdown",
   "id": "09f3b90b",
   "metadata": {},
   "source": [
    "### ii. The input function can be used to prompt for input and use that input in your python code. Prompt the user to enter a positive number and write a loop that counts from 0 to that number. \n",
    "* (Hints: note that the input function returns a string, so you'll need to convert this to a numeric type.)\n",
    "    "
   ]
  },
  {
   "cell_type": "code",
   "execution_count": 26,
   "id": "bd8ad821",
   "metadata": {
    "collapsed": true
   },
   "outputs": [
    {
     "name": "stdout",
     "output_type": "stream",
     "text": [
      "Enter a positive integer: 10\n",
      "Counting up to 10 from 0:\n",
      "0\n",
      "1\n",
      "2\n",
      "3\n",
      "4\n",
      "5\n",
      "6\n",
      "7\n",
      "8\n",
      "9\n",
      "10\n"
     ]
    }
   ],
   "source": [
    "user_input = input(\"Enter a positive integer: \")\n",
    "\n",
    "try:\n",
    "    number = int(user_input)\n",
    "    if number <= 0:\n",
    "        raise ValueError(\"Please enter a positive integer.\")\n",
    "except ValueError:\n",
    "    print(\"Invalid input. Please enter a positive integer.\")\n",
    "else:\n",
    "    print(f\"Counting up to {number} from 0:\")\n",
    "    for i in range (0, number + 1, 1):   # The 1st and 3rd argument aren't needed I think\n",
    "                                        # because they are the default anyways\n",
    "        print(i)"
   ]
  },
  {
   "cell_type": "markdown",
   "id": "acb050b6",
   "metadata": {},
   "source": [
    "### iii. Prompt the user for an odd number between 1 and 50. Use a loop and a break statement to continue prompting the user if they enter invalid input. \n",
    "* (Hint: use the isdigit method on strings to determine this). \n",
    "* Use a loop and the continue statement to output all the odd numbers between 1 and 50, except for the number the user entered.\n",
    "\n",
    "Your output should look like this...:"
   ]
  },
  {
   "cell_type": "code",
   "execution_count": 28,
   "id": "3c5a9f74",
   "metadata": {
    "collapsed": true
   },
   "outputs": [
    {
     "name": "stdout",
     "output_type": "stream",
     "text": [
      "Enter an odd number between 1 and 50: 27\n",
      "Number to skip is: 27\n",
      "1\n",
      "3\n",
      "5\n",
      "7\n",
      "9\n",
      "11\n",
      "13\n",
      "15\n",
      "17\n",
      "19\n",
      "21\n",
      "23\n",
      "25\n",
      "Yikes! Skipping number: 27\n",
      "29\n",
      "31\n",
      "33\n",
      "35\n",
      "37\n",
      "39\n",
      "41\n",
      "43\n",
      "45\n",
      "47\n",
      "49\n"
     ]
    }
   ],
   "source": [
    "while True:     # Used for continous prompting until valid input is provided\n",
    "    user_input = input(\"Enter an odd number between 1 and 50: \")\n",
    "    \n",
    "    if user_input.isdigit(): # Used to check if the input consists only of digits.\n",
    "                            # Loop is exited using 'break' if the input is valid.\n",
    "        number = int(user_input)\n",
    "        if 1 <= number <= 50 and number % 2 != 0:\n",
    "            break\n",
    "        else:\n",
    "            print(\"Invalid input. Please enter a valid odd number between 1 and 50.\")\n",
    "    else:\n",
    "        print(\"Invalid input. Please enter a valid odd number between 1 and 50.\")\n",
    "\n",
    "# Output all numbers between 1 & 50, except for the user-entered number\n",
    "print(f\"Number to skip is: {number}\")\n",
    "for i in range(1, 51, 2):\n",
    "    if i == number:\n",
    "        print(f\"Yikes! Skipping number: {number}\")\n",
    "        continue # Skip the user-entered number\n",
    "    print(i)"
   ]
  },
  {
   "cell_type": "markdown",
   "id": "edac00e1",
   "metadata": {},
   "source": [
    "### Another way"
   ]
  },
  {
   "cell_type": "code",
   "execution_count": 38,
   "id": "60725cb5",
   "metadata": {
    "scrolled": true
   },
   "outputs": [
    {
     "name": "stdout",
     "output_type": "stream",
     "text": [
      "Enter an odd number between 1 and 50: 100\n",
      "\n",
      "Number to skip is: 100\n",
      "Invalid input! Enter an odd number between 1 and 50\n",
      "Enter an odd number between 1 and 50: 50\n",
      "\n",
      "Number to skip is: 50\n",
      "Invalid input! Enter an odd number between 1 and 50\n",
      "Enter an odd number between 1 and 50: 5\n",
      "\n",
      "Number to skip is: 5\n",
      "Here is an odd number: 1\n",
      "Here is an odd number: 3\n",
      "Yikes! Skipping number: 5\n",
      "Here is an odd number: 7\n",
      "Here is an odd number: 9\n",
      "Here is an odd number: 11\n",
      "Here is an odd number: 13\n",
      "Here is an odd number: 15\n",
      "Here is an odd number: 17\n",
      "Here is an odd number: 19\n",
      "Here is an odd number: 21\n",
      "Here is an odd number: 23\n",
      "Here is an odd number: 25\n",
      "Here is an odd number: 27\n",
      "Here is an odd number: 29\n",
      "Here is an odd number: 31\n",
      "Here is an odd number: 33\n",
      "Here is an odd number: 35\n",
      "Here is an odd number: 37\n",
      "Here is an odd number: 39\n",
      "Here is an odd number: 41\n",
      "Here is an odd number: 43\n",
      "Here is an odd number: 45\n",
      "Here is an odd number: 47\n",
      "Here is an odd number: 49\n"
     ]
    }
   ],
   "source": [
    "while True:\n",
    "    user_input = int(input('Enter an odd number between 1 and 50: '))\n",
    "    print(f'\\nNumber to skip is: {user_input}')\n",
    "    if isinstance(user_input, int): # isinstance can be used in a broader sense that isdigit (shift tab to check it)\n",
    "        if 1 <= user_input <= 50 and user_input % 2 == 1:\n",
    "            for i in range(1,51,2):\n",
    "                # check if i equals user_input\n",
    "                if i == user_input:\n",
    "                    print(f'Yikes! Skipping number: {i}') # i = user_input so either can go in these curlies.\n",
    "                    continue\n",
    "                print(f'Here is an odd number: {i}')\n",
    "            break\n",
    "        else:\n",
    "            print('Invalid input! Enter an odd number between 1 and 50')\n",
    "    else:\n",
    "        print('Invalid input! Enter an odd number between 1 and 50')"
   ]
  },
  {
   "cell_type": "markdown",
   "id": "f0e65aef",
   "metadata": {},
   "source": [
    "# 3. Fizzbuzz\n",
    "\n",
    "### One of the most common interview questions for entry-level programmers is the FizzBuzz test. Developed by Imran Ghory, the test is designed to test basic looping and conditional logic skills.\n",
    "\n",
    "* Write a program that prints the numbers from 1 to 100.\n",
    "* For multiples of three print \"Fizz\" instead of the number\n",
    "* For the multiples of five print \"Buzz\".\n",
    "* For numbers which are multiples of both three and five print \"FizzBuzz\".\n",
    "\n"
   ]
  },
  {
   "cell_type": "code",
   "execution_count": 36,
   "id": "08927b89",
   "metadata": {
    "scrolled": true
   },
   "outputs": [
    {
     "name": "stdout",
     "output_type": "stream",
     "text": [
      "1\n",
      "2\n",
      "Fizz\n",
      "4\n",
      "Buzz\n",
      "Fizz\n",
      "7\n",
      "8\n",
      "Fizz\n",
      "Buzz\n",
      "11\n",
      "Fizz\n",
      "13\n",
      "14\n",
      "Fizzbuzz\n",
      "16\n",
      "17\n",
      "Fizz\n",
      "19\n",
      "Buzz\n",
      "Fizz\n",
      "22\n",
      "23\n",
      "Fizz\n",
      "Buzz\n",
      "26\n",
      "Fizz\n",
      "28\n",
      "29\n",
      "Fizzbuzz\n",
      "31\n",
      "32\n",
      "Fizz\n",
      "34\n",
      "Buzz\n",
      "Fizz\n",
      "37\n",
      "38\n",
      "Fizz\n",
      "Buzz\n",
      "41\n",
      "Fizz\n",
      "43\n",
      "44\n",
      "Fizzbuzz\n",
      "46\n",
      "47\n",
      "Fizz\n",
      "49\n",
      "Buzz\n",
      "Fizz\n",
      "52\n",
      "53\n",
      "Fizz\n",
      "Buzz\n",
      "56\n",
      "Fizz\n",
      "58\n",
      "59\n",
      "Fizzbuzz\n",
      "61\n",
      "62\n",
      "Fizz\n",
      "64\n",
      "Buzz\n",
      "Fizz\n",
      "67\n",
      "68\n",
      "Fizz\n",
      "Buzz\n",
      "71\n",
      "Fizz\n",
      "73\n",
      "74\n",
      "Fizzbuzz\n",
      "76\n",
      "77\n",
      "Fizz\n",
      "79\n",
      "Buzz\n",
      "Fizz\n",
      "82\n",
      "83\n",
      "Fizz\n",
      "Buzz\n",
      "86\n",
      "Fizz\n",
      "88\n",
      "89\n",
      "Fizzbuzz\n",
      "91\n",
      "92\n",
      "Fizz\n",
      "94\n",
      "Buzz\n",
      "Fizz\n",
      "97\n",
      "98\n",
      "Fizz\n",
      "Buzz\n"
     ]
    }
   ],
   "source": [
    "for number in range(1, 101):\n",
    "    if number % 15 == 0:\n",
    "        print(\"Fizzbuzz\")\n",
    "    elif number % 3 == 0:\n",
    "        print(\"Fizz\")\n",
    "    elif number % 5 == 0:\n",
    "        print(\"Buzz\")\n",
    "    else:\n",
    "        print(number)"
   ]
  },
  {
   "cell_type": "markdown",
   "id": "495bf7b4",
   "metadata": {},
   "source": [
    "# 4. Display a table of powers.\n",
    "\n",
    "* Prompt the user to enter an integer\n",
    "* Display a table of squares and cubes from 1 to the value entered\n",
    "* Ask if the user wants to continue\n",
    "* Assume that the user will enter valid data\n",
    "* Only continue if the user agrees to"
   ]
  },
  {
   "cell_type": "code",
   "execution_count": 48,
   "id": "20a3a361",
   "metadata": {
    "scrolled": true
   },
   "outputs": [
    {
     "name": "stdout",
     "output_type": "stream",
     "text": [
      "Enter an integer: 5\n",
      "\n",
      "Table of Squares and Cubes from 1 to 5:\n",
      "Number     Square     Cube      \n",
      "1          1          1         \n",
      "2          4          8         \n",
      "3          9          27        \n",
      "4          16         64        \n",
      "5          25         125       \n",
      "Do you want to continue? (yes/no): no\n"
     ]
    }
   ],
   "source": [
    "while True:\n",
    "    user_input = int(input(\"Enter an integer: \"))\n",
    "    \n",
    "    # Display a table of squares and cubes from 1 to the entered value\n",
    "    \n",
    "    print(f\"\\nTable of Squares and Cubes from 1 to {user_input}:\")\n",
    "    print(\"{:<10} {:<10} {:<10}\".format(\"Number\", \"Square\", \"Cube\"))\n",
    "    \n",
    "    # The {:<10} means the value will be left-aligned withing a field of width 10.\n",
    "    # If less that 10 characters, it'll be padded with spaces on the right!\n",
    "    \n",
    "    for i in range(1, user_input + 1):\n",
    "        square = i ** 2\n",
    "        cube = i ** 3\n",
    "        print(\"{:<10} {:<10} {:<10}\".format(i, square, cube))\n",
    "    \n",
    "    # Ask if the user wants to continue\n",
    "    user_choice = input(\"Do you want to continue? (yes/no): \").lower()\n",
    "    \n",
    "    if user_choice != 'yes':\n",
    "        break"
   ]
  },
  {
   "cell_type": "markdown",
   "id": "bc89e642",
   "metadata": {},
   "source": [
    "##### Another way"
   ]
  },
  {
   "cell_type": "code",
   "execution_count": 43,
   "id": "bb48ca3f",
   "metadata": {},
   "outputs": [
    {
     "name": "stdout",
     "output_type": "stream",
     "text": [
      "Enter an integer: 5\n",
      "number | squared | cubed\n",
      "-------| ------- | -----\n",
      "1       |1       |1  \n",
      "2       |4       |8  \n",
      "3       |9       |27  \n",
      "4       |16       |64  \n",
      "5       |25       |125  \n",
      "Would you like to continue (yes/no)?no\n"
     ]
    }
   ],
   "source": [
    "cont = 'yes'\n",
    "\n",
    "while cont == 'yes':\n",
    "    numb = int(input('Enter an integer: '))\n",
    "    \n",
    "    print(f'number | squared | cubed')\n",
    "    print(f'-------| ------- | -----')\n",
    "    \n",
    "    for i in range(1,numb+1):  # could do the padding way of formatting like above\n",
    "        print(f'{i}       |{i**2}       |{i**3}  ')\n",
    "    \n",
    "    cont = input('Would you like to continue (yes/no)?')"
   ]
  },
  {
   "cell_type": "markdown",
   "id": "19d7321e",
   "metadata": {},
   "source": [
    "# 5. Convert given number grades into letter grades.\n",
    "\n",
    "* Prompt the user for a numerical grade from 0 to 100\n",
    "* Display the corresponding letter grade\n",
    "* Prompt the user to continue\n",
    "* Assume that the user will enter valid integers for the grades\n",
    "* The application should only continue if the user agrees to\n",
    "* Grade Ranges:\n",
    "\n",
    "#### A : 100 - 88\n",
    "#### B : 87 - 80\n",
    "#### C : 79 - 67\n",
    "#### D : 66 - 60\n",
    "#### F : 59 - 0\n",
    "\n"
   ]
  },
  {
   "cell_type": "code",
   "execution_count": 44,
   "id": "73dbbc91",
   "metadata": {},
   "outputs": [
    {
     "name": "stdout",
     "output_type": "stream",
     "text": [
      "Enter a numerical grade (0-100): 92\n",
      "The corresponding letter grade is: A\n",
      "Do you want to continue? (yes/no): no\n"
     ]
    }
   ],
   "source": [
    "def convert_to_letter_grade(grade):\n",
    "    if 88 <= grade <= 100:\n",
    "        return 'A'\n",
    "    elif 80 <= grade <= 87:\n",
    "        return 'B'\n",
    "    elif 67 <= grade <= 79:\n",
    "        return 'C'\n",
    "    elif 60 <= grade <= 66:\n",
    "        return 'D'\n",
    "    else:\n",
    "        return 'F'\n",
    "    \n",
    "while True:\n",
    "    # Prompt for a numerical grade\n",
    "    numerical_grade = int(input(\"Enter a numerical grade (0-100): \"))\n",
    "\n",
    "    # Convert to letter grade and display\n",
    "    letter_grade = convert_to_letter_grade(numerical_grade)\n",
    "    print(f\"The corresponding letter grade is: {letter_grade}\")\n",
    "    \n",
    "    user_choice = input(\"Do you want to continue? (yes/no): \").lower()\n",
    "    \n",
    "    if user_choice != 'yes':\n",
    "        break"
   ]
  },
  {
   "cell_type": "markdown",
   "id": "c347efe0",
   "metadata": {},
   "source": [
    "# 6. Create a list of dictionaries where each dictionary represents a book that you have read. Each dictionary in the list should have the keys title, author, and genre. \n",
    "* Loop through the list and print out information about each book.\n",
    "* Prompt the user to enter a genre, then loop through your books \n",
    "* list and print out the titles of all the books in that genre.\n"
   ]
  },
  {
   "cell_type": "code",
   "execution_count": 58,
   "id": "4ccd26bf",
   "metadata": {},
   "outputs": [
    {
     "name": "stdout",
     "output_type": "stream",
     "text": [
      "Information about each book:\n",
      "\n",
      "Title: The Great Gatsby, Author: F. Scott Fitzgerald, Genre: Fiction\n",
      "Title: To Kill a Mockingbird, Author: Harper Lee, Genre: Fiction\n",
      "Title: 1984, Author: George Orwell, Genre: Dystopian\n",
      "Title: The Hitchhiker's Guide to the Galaxy, Author: Douglas Adams, Genre: Science Fiction\n",
      "Title: The Catcher in the Rye, Author: J.D. Salinger, Genre: Fiction\n",
      "Title: Atomic Habits, Author: James Clear, Genre: Self-help\n",
      "Title: Gathering Blue, Author: Lois Lowry, Genre: Dystopian\n",
      "Title: The Alchemist, Author: Paulo Coelho, Genre: Fiction\n",
      "\n",
      "Enter a genre to display titles of books in that genre: fiction\n",
      "\n",
      "Titles of books in the genre 'fiction':\n",
      "The Great Gatsby\n",
      "To Kill a Mockingbird\n",
      "The Catcher in the Rye\n",
      "The Alchemist\n",
      "\n",
      "\n",
      "Continue search? (yes/no): no\n"
     ]
    }
   ],
   "source": [
    "books = [\n",
    "    {\"title\": \"The Great Gatsby\", \"author\": \"F. Scott Fitzgerald\", \"genre\": \"Fiction\"},\n",
    "    {\"title\": \"To Kill a Mockingbird\", \"author\": \"Harper Lee\", \"genre\": \"Fiction\"},\n",
    "    {\"title\": \"1984\", \"author\": \"George Orwell\", \"genre\": \"Dystopian\"},\n",
    "    {\"title\": \"The Hitchhiker's Guide to the Galaxy\", \"author\": \"Douglas Adams\", \"genre\": \"Science Fiction\"},\n",
    "    {\"title\": \"The Catcher in the Rye\", \"author\": \"J.D. Salinger\", \"genre\": \"Fiction\"},\n",
    "    {\"title\": \"Atomic Habits\", \"author\": \"James Clear\", \"genre\": \"Self-help\"},\n",
    "    {\"title\": \"Gathering Blue\", \"author\": \"Lois Lowry\", \"genre\": \"Dystopian\"},\n",
    "    {\"title\": \"The Alchemist\", \"author\": \"Paulo Coelho\", \"genre\": \"Fiction\"}\n",
    "]\n",
    "while True:\n",
    "# Loop through the list and print out information about each book.\n",
    "    print(\"Information about each book:\\n\")\n",
    "    for book in books:\n",
    "        print(f\"Title: {book['title']}, Author: {book['author']}, Genre: {book['genre']}\")\n",
    "\n",
    "# Prompt the user to enter a genre, then loop through your books \n",
    "    user_genre = input(\"\\nEnter a genre to display titles of books in that genre: \")\n",
    "\n",
    "# Loop through the books list and print titles of books in the entered genre\n",
    "    print(f\"\\nTitles of books in the genre '{user_genre}':\")\n",
    "    for book in books:\n",
    "        if book['genre'].lower() == user_genre.lower():\n",
    "            print(book['title'])\n",
    "#         else:\n",
    "#             print('genre does not exist') ### I put scary and it shows the print but it shows it multiple times!\n",
    "\n",
    "    user_choice = input(\"\\n\\nContinue search? (yes/no): \").lower()\n",
    "    if user_choice != 'yes':\n",
    "        break"
   ]
  },
  {
   "cell_type": "code",
   "execution_count": 52,
   "id": "e324e4ca",
   "metadata": {
    "collapsed": true
   },
   "outputs": [
    {
     "name": "stdout",
     "output_type": "stream",
     "text": [
      "\n",
      "Information about each book:\n",
      "Title: The Great Gatsby, Author: F. Scott Fitzgerald, Genres: Fiction\n",
      "Title: To Kill a Mockingbird, Author: Harper Lee, Genres: Fiction\n",
      "Title: 1984, Author: George Orwell, Genres: Dystopian, Fiction\n",
      "Title: The Hitchhiker's Guide to the Galaxy, Author: Douglas Adams, Genres: Science Fiction, Comedy\n",
      "Title: The Catcher in the Rye, Author: J.D. Salinger, Genres: Fiction\n",
      "Title: Atomic Habits, Author: James Clear, Genres: Self-help\n",
      "Title: Gathering Blue, Author: Lois Lowry, Genres: Dystopian, Fiction\n",
      "Title: The Alchemist, Author: Paulo Coelho, Genres: Fiction, Adventure\n",
      "\n",
      "Enter a genre to display titles of books in that genre: fiction\n",
      "\n",
      "Titles of books in the genre 'fiction':\n",
      "The Great Gatsby\n",
      "To Kill a Mockingbird\n",
      "1984\n",
      "The Catcher in the Rye\n",
      "Gathering Blue\n",
      "The Alchemist\n",
      "\n",
      "Do you want to continue? (yes/no): no\n"
     ]
    }
   ],
   "source": [
    "# What if I wanted to include several genres in one book to help with the search?\n",
    "# Dystopians are Fiction so perhaps Fiction seekers \n",
    "# should have Dystopian books in their results.\n",
    "\n",
    "# Create a list of dictionaries representing books with multiple genres\n",
    "books = [\n",
    "    {\"title\": \"The Great Gatsby\", \"author\": \"F. Scott Fitzgerald\", \"genres\": [\"Fiction\"]},\n",
    "    {\"title\": \"To Kill a Mockingbird\", \"author\": \"Harper Lee\", \"genres\": [\"Fiction\"]},\n",
    "    {\"title\": \"1984\", \"author\": \"George Orwell\", \"genres\": [\"Dystopian\", \"Fiction\"]},\n",
    "    {\"title\": \"The Hitchhiker's Guide to the Galaxy\", \"author\": \"Douglas Adams\", \"genres\": [\"Science Fiction\", \"Comedy\"]},\n",
    "    {\"title\": \"The Catcher in the Rye\", \"author\": \"J.D. Salinger\", \"genres\": [\"Fiction\"]},\n",
    "    {\"title\": \"Atomic Habits\", \"author\": \"James Clear\", \"genres\": [\"Self-help\"]},\n",
    "    {\"title\": \"Gathering Blue\", \"author\": \"Lois Lowry\", \"genres\": [\"Dystopian\", \"Fiction\"]},\n",
    "    {\"title\": \"The Alchemist\", \"author\": \"Paulo Coelho\", \"genres\": [\"Fiction\", \"Adventure\"]}\n",
    "]\n",
    "\n",
    "while True:\n",
    "# Loop through the list and print information about each book\n",
    "    print(\"\\nInformation about each book:\")\n",
    "    for book in books:\n",
    "        print(f\"Title: {book['title']}, Author: {book['author']}, Genres: {', '.join(book['genres'])}\")\n",
    "\n",
    "# Prompt the user to enter a genre\n",
    "    user_genre = input(\"\\nEnter a genre to display titles of books in that genre: \")\n",
    "\n",
    "# Loop through the books list and print titles of books in the entered genre\n",
    "    print(f\"\\nTitles of books in the genre '{user_genre}':\")\n",
    "    for book in books:\n",
    "        if user_genre.lower() in map(str.lower, book['genres']):\n",
    "            print(book['title'])\n",
    "\n",
    "# Prompt the user to continue\n",
    "    user_choice = input(\"\\nDo you want to continue? (yes/no): \").lower()\n",
    "    if user_choice != 'yes':\n",
    "        break\n"
   ]
  },
  {
   "cell_type": "code",
   "execution_count": null,
   "id": "249c4b5e",
   "metadata": {},
   "outputs": [],
   "source": []
  }
 ],
 "metadata": {
  "kernelspec": {
   "display_name": "Python 3 (ipykernel)",
   "language": "python",
   "name": "python3"
  },
  "language_info": {
   "codemirror_mode": {
    "name": "ipython",
    "version": 3
   },
   "file_extension": ".py",
   "mimetype": "text/x-python",
   "name": "python",
   "nbconvert_exporter": "python",
   "pygments_lexer": "ipython3",
   "version": "3.11.5"
  }
 },
 "nbformat": 4,
 "nbformat_minor": 5
}
