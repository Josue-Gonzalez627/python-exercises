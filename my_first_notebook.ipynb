{
 "cells": [
  {
   "cell_type": "code",
   "execution_count": 1,
   "id": "ebc24fc2",
   "metadata": {},
   "outputs": [],
   "source": [
    "#shift return will execute and take you to a new cell\n",
    "x=1\n",
    "a=2\n",
    "greeting='hello world'"
   ]
  },
  {
   "cell_type": "markdown",
   "id": "4eedd059",
   "metadata": {},
   "source": [
    "this is not going to be a coding cell aka markdown cell\n",
    "\n",
    "ESC + M"
   ]
  },
  {
   "cell_type": "code",
   "execution_count": 4,
   "id": "a8c00170",
   "metadata": {},
   "outputs": [],
   "source": [
    "#shift L will show your line numbers"
   ]
  },
  {
   "cell_type": "code",
   "execution_count": null,
   "id": "ef5dfab0",
   "metadata": {},
   "outputs": [],
   "source": []
  }
 ],
 "metadata": {
  "kernelspec": {
   "display_name": "Python 3 (ipykernel)",
   "language": "python",
   "name": "python3"
  },
  "language_info": {
   "codemirror_mode": {
    "name": "ipython",
    "version": 3
   },
   "file_extension": ".py",
   "mimetype": "text/x-python",
   "name": "python",
   "nbconvert_exporter": "python",
   "pygments_lexer": "ipython3",
   "version": "3.11.5"
  }
 },
 "nbformat": 4,
 "nbformat_minor": 5
}
