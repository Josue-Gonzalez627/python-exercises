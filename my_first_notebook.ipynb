{
 "cells": [
  {
   "cell_type": "code",
   "execution_count": 1,
   "id": "ebc24fc2",
   "metadata": {},
   "outputs": [],
   "source": [
    "#shift return will execute and take you to a new cell\n",
    "x=1\n",
    "a=2\n",
    "greeting='hello world'"
   ]
  },
  {
   "cell_type": "markdown",
   "id": "4eedd059",
   "metadata": {},
   "source": [
    "this is not going to be a coding cell aka markdown cell\n",
    "\n",
    "ESC + M"
   ]
  },
  {
   "cell_type": "code",
   "execution_count": 4,
   "id": "a8c00170",
   "metadata": {},
   "outputs": [],
   "source": [
    "#shift L will show your line numbers"
   ]
  },
  {
   "cell_type": "code",
   "execution_count": 2,
   "id": "ef5dfab0",
   "metadata": {},
   "outputs": [
    {
     "name": "stdout",
     "output_type": "stream",
     "text": [
      "False\n"
     ]
    }
   ],
   "source": [
    "is_first_of_the_month = False\n",
    "report_has_been_sent = True\n",
    "\n",
    "should_process_report = is_first_of_the_month and not report_has_been_sent\n",
    "\n",
    "print(should_process_report)"
   ]
  },
  {
   "cell_type": "code",
   "execution_count": 4,
   "id": "debfac05",
   "metadata": {},
   "outputs": [
    {
     "data": {
      "text/plain": [
       "False"
      ]
     },
     "execution_count": 4,
     "metadata": {},
     "output_type": "execute_result"
    }
   ],
   "source": [
    "'HELLO' == 'hello'\n"
   ]
  },
  {
   "cell_type": "code",
   "execution_count": 5,
   "id": "f49adee3",
   "metadata": {},
   "outputs": [
    {
     "data": {
      "text/plain": [
       "'Codeup'"
      ]
     },
     "execution_count": 5,
     "metadata": {},
     "output_type": "execute_result"
    }
   ],
   "source": [
    "school = dict(name='Codeup', age=9)\n",
    "\n",
    "school['name']\n"
   ]
  },
  {
   "cell_type": "code",
   "execution_count": 6,
   "id": "7b4883f6",
   "metadata": {},
   "outputs": [
    {
     "data": {
      "text/plain": [
       "{'name': 'Codeup', 'age': 10}"
      ]
     },
     "execution_count": 6,
     "metadata": {},
     "output_type": "execute_result"
    }
   ],
   "source": [
    "school['age'] += 1\n",
    "\n",
    "school\n"
   ]
  },
  {
   "cell_type": "code",
   "execution_count": null,
   "id": "4016f416",
   "metadata": {},
   "outputs": [],
   "source": []
  }
 ],
 "metadata": {
  "kernelspec": {
   "display_name": "Python 3 (ipykernel)",
   "language": "python",
   "name": "python3"
  },
  "language_info": {
   "codemirror_mode": {
    "name": "ipython",
    "version": 3
   },
   "file_extension": ".py",
   "mimetype": "text/x-python",
   "name": "python",
   "nbconvert_exporter": "python",
   "pygments_lexer": "ipython3",
   "version": "3.11.5"
  }
 },
 "nbformat": 4,
 "nbformat_minor": 5
}
