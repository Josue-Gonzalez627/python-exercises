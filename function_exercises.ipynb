{
 "cells": [
  {
   "cell_type": "markdown",
   "id": "80cc13b7",
   "metadata": {},
   "source": [
    "# Exercises\n",
    "\n",
    "Create a file named function_exercises.py for this exercise. After creating each function specified below, write the necessary code in order to test your function."
   ]
  },
  {
   "cell_type": "markdown",
   "id": "b2ae04c9",
   "metadata": {},
   "source": [
    "1. Define a function named **is_two**. It should accept one input and return **True** if the passed input is either the number or the string **2**, **False** otherwise.\n"
   ]
  },
  {
   "cell_type": "code",
   "execution_count": 4,
   "id": "21018f13",
   "metadata": {},
   "outputs": [
    {
     "name": "stdout",
     "output_type": "stream",
     "text": [
      "True\n",
      "True\n",
      "False\n",
      "False\n"
     ]
    }
   ],
   "source": [
    "def is_two(n):\n",
    "    return n == 2 or str(n) == '2'\n",
    "\n",
    "# Test the function\n",
    "print(is_two(2))\n",
    "print(is_two('2'))\n",
    "print(is_two(3))\n",
    "print(is_two('two'))"
   ]
  },
  {
   "cell_type": "markdown",
   "id": "b27ee306",
   "metadata": {},
   "source": [
    "2. Define a function named **is_vowel**. It should return **True** if the passed string is a vowel, **False** otherwise.\n"
   ]
  },
  {
   "cell_type": "code",
   "execution_count": 5,
   "id": "a084b1d1",
   "metadata": {},
   "outputs": [
    {
     "name": "stdout",
     "output_type": "stream",
     "text": [
      "True\n",
      "True\n",
      "False\n",
      "False\n",
      "\n",
      "True\n",
      "True\n",
      "False\n",
      "False\n"
     ]
    }
   ],
   "source": [
    "def is_vowel(char):\n",
    "    return char.lower() == 'a' or char.lower() == 'e' or char.lower() == 'i' or char.lower() == 'o' or char.lower() == 'u'\n",
    "# Test the function\n",
    "print(is_vowel('a'))\n",
    "print(is_vowel('E'))\n",
    "print(is_vowel('z'))\n",
    "print(is_vowel('B'))\n",
    "\n",
    "\n",
    "###Another Way###\n",
    "print()\n",
    "def is_vowel1(char):\n",
    "    vowels = 'aeiou'\n",
    "    return char.lower() in vowels\n",
    "# Test the function\n",
    "print(is_vowel1('a'))\n",
    "print(is_vowel1('E'))\n",
    "print(is_vowel1('z'))\n",
    "print(is_vowel1('B'))"
   ]
  },
  {
   "cell_type": "markdown",
   "id": "d9df411a",
   "metadata": {},
   "source": [
    "3. Define a function named **is_consonant**. It should return **True** if the passed string is a consonant, **False** otherwise. Use your **is_vowel** function to accomplish this.\n"
   ]
  },
  {
   "cell_type": "code",
   "execution_count": 6,
   "id": "faf6ea4b",
   "metadata": {
    "scrolled": true
   },
   "outputs": [
    {
     "name": "stdout",
     "output_type": "stream",
     "text": [
      "False\n",
      "False\n",
      "True\n",
      "True\n",
      "False\n"
     ]
    }
   ],
   "source": [
    "def is_vowel(char):\n",
    "    vowels = 'aeiou'\n",
    "    return char.lower() in vowels\n",
    "# keep in mind I technically don't have to re-write this above because if it has already\n",
    "# been ran in #2, then it should already be stored (vowels).\n",
    "\n",
    "\n",
    "def is_consonant(char):\n",
    "    return char.isalpha() and not is_vowel(char) \n",
    "# .isalpha() checks if the character is a letter\n",
    "\n",
    "# Test the function\n",
    "print(is_consonant('a'))\n",
    "print(is_consonant('E'))\n",
    "print(is_consonant('z'))\n",
    "print(is_consonant('B'))\n",
    "print(is_consonant('1'))"
   ]
  },
  {
   "cell_type": "markdown",
   "id": "8a4ac4cd",
   "metadata": {},
   "source": [
    "4. Define a function that accepts a string that is a word. The function should capitalize the first letter of the word if the word starts with a consonant.\n"
   ]
  },
  {
   "cell_type": "code",
   "execution_count": 20,
   "id": "737817cb",
   "metadata": {
    "collapsed": true
   },
   "outputs": [
    {
     "name": "stdout",
     "output_type": "stream",
     "text": [
      "apple\n",
      "Banana\n",
      "Kite\n",
      "Zebra\n",
      "\n",
      "Original word: cat, Result: Cat\n",
      "Original word: boat, Result: Boat\n",
      "Original word: original, Result: original\n"
     ]
    }
   ],
   "source": [
    "def is_vowel(char):\n",
    "    vowels = 'aeiou'\n",
    "    return char.lower() in vowels\n",
    "\n",
    "def cap_if_consonant(word):\n",
    "    if word and is_consonant(word[0]):\n",
    "        return word.capitalize()\n",
    "    else:\n",
    "        return word\n",
    "\n",
    "# Below checks for consonant, top one not needed if already ran it in above questions\n",
    "def is_consonant(char):\n",
    "    return char.isalpha() and not is_vowel(char) \n",
    "\n",
    "# Test\n",
    "print(cap_if_consonant('apple'))\n",
    "print(cap_if_consonant('banana'))\n",
    "print(cap_if_consonant('kite'))\n",
    "print(cap_if_consonant('zebra'))\n",
    "print()\n",
    "\n",
    "# Online response  (just to show the change)\n",
    "input_word = 'cat'\n",
    "result = cap_if_consonant(input_word)\n",
    "print(f'Original word: {input_word}, Result: {result}')\n",
    "\n",
    "input_word = 'boat'\n",
    "result = cap_if_consonant(input_word)\n",
    "print(f'Original word: {input_word}, Result: {result}')\n",
    "\n",
    "input_word = 'original'\n",
    "result = cap_if_consonant(input_word)\n",
    "print(f'Original word: {input_word}, Result: {result}')\n",
    "      "
   ]
  },
  {
   "cell_type": "markdown",
   "id": "a18934f7",
   "metadata": {},
   "source": [
    "5. Define a function named **calculate_tip**. It should accept a tip percentage (a number between 0 and 1) and the bill total, and return the amount to tip.\n"
   ]
  },
  {
   "cell_type": "code",
   "execution_count": 26,
   "id": "7789c6f1",
   "metadata": {},
   "outputs": [
    {
     "name": "stdout",
     "output_type": "stream",
     "text": [
      "Bill Total: $50.0, Tip Percentage: 15.0%, Tip Amount: $7.5\n"
     ]
    }
   ],
   "source": [
    "def calculate_tip(tip_percentage, bill_total):\n",
    "    if 0 <= tip_percentage <= 1:\n",
    "# rather than the 'if' another way is...\n",
    "# tip_percentage = min(1, max(0, tip_percentage))\n",
    "    # the max keeps it above 0 and the min keep it at 1 at the most.\n",
    "        tip_amount = tip_percentage * bill_total\n",
    "        return tip_amount\n",
    "    else:\n",
    "        return \"Invalid tip percentage. Please enter a number between 0 and 1.\"\n",
    "\n",
    "# Test\n",
    "tip_percentage = 0.15    # 15% tip\n",
    "bill_total = 50.0\n",
    "tip_amount = calculate_tip(tip_percentage, bill_total)\n",
    "print(f'Bill Total: ${bill_total}, Tip Percentage: {tip_percentage * 100}%, Tip Amount: ${tip_amount}')\n"
   ]
  },
  {
   "cell_type": "markdown",
   "id": "d8fccfd5",
   "metadata": {},
   "source": [
    "6. Define a function named **apply_discount**. It should accept a original price, and a discount percentage, and return the price after the discount is applied.\n"
   ]
  },
  {
   "cell_type": "code",
   "execution_count": 31,
   "id": "418232e3",
   "metadata": {},
   "outputs": [
    {
     "name": "stdout",
     "output_type": "stream",
     "text": [
      "Original Price: $250.0, Discount Percentage: 25.0%, Discount Price: 187.5\n"
     ]
    }
   ],
   "source": [
    "def apply_discount(discount_percentage, original_price):\n",
    "    discount_percentage = min(1, max(0, discount_percentage))\n",
    "    discount_price = (original_price - (discount_percentage * original_price))\n",
    "    return discount_price\n",
    "\n",
    "# Test\n",
    "discount_percentage = 0.25   # 25% discount\n",
    "original_price = 250.0\n",
    "discount_price = apply_discount(discount_percentage, original_price)\n",
    "print(f'Original Price: ${original_price}, Discount Percentage: {discount_percentage * 100}%, Discount Price: {discount_price}')\n"
   ]
  },
  {
   "cell_type": "markdown",
   "id": "8d4a7709",
   "metadata": {},
   "source": [
    "7. Define a function named **handle_commas**. It should accept a string that is a number that contains commas in it as input, and return a number as output.\n"
   ]
  },
  {
   "cell_type": "code",
   "execution_count": null,
   "id": "1bd9a973",
   "metadata": {},
   "outputs": [],
   "source": []
  },
  {
   "cell_type": "markdown",
   "id": "931c5a2f",
   "metadata": {},
   "source": [
    "8. Define a function named **get_letter_grade**. It should accept a number and return the letter grade associated with that number (A-F).\n"
   ]
  },
  {
   "cell_type": "code",
   "execution_count": null,
   "id": "df6c5547",
   "metadata": {},
   "outputs": [],
   "source": []
  },
  {
   "cell_type": "markdown",
   "id": "40453134",
   "metadata": {},
   "source": [
    "9. Define a function named **remove_vowels** that accepts a string and returns a string with all the vowels removed.\n"
   ]
  },
  {
   "cell_type": "code",
   "execution_count": null,
   "id": "062f2a00",
   "metadata": {},
   "outputs": [],
   "source": []
  },
  {
   "cell_type": "markdown",
   "id": "e5e8a10f",
   "metadata": {},
   "source": [
    "10. Define a function named **normalize_name**. It should accept a string and return a valid python identifier, that is:\n",
    "* anything that is not a valid python identifier should be removed\n",
    "* leading and trailing whitespace should be removed\n",
    "* everything should be lowercase\n",
    "* spaces should be replaced with underscores\n",
    "* for example:\n",
    "    * Name will become name\n",
    "    * First Name will become first_name\n",
    "    * % Completed will become completed"
   ]
  },
  {
   "cell_type": "code",
   "execution_count": null,
   "id": "fe8a7b37",
   "metadata": {},
   "outputs": [],
   "source": []
  },
  {
   "cell_type": "markdown",
   "id": "b1981811",
   "metadata": {},
   "source": [
    "11. Write a function named **cumulative_sum** that accepts a list of numbers and returns a list that is the cumulative sum of the numbers in the list.\n",
    "* cumulative_sum([1, 1, 1]) returns [1, 2, 3]\n",
    "* cumulative_sum([1, 2, 3, 4]) returns [1, 3, 6, 10]"
   ]
  },
  {
   "cell_type": "code",
   "execution_count": null,
   "id": "098f824d",
   "metadata": {},
   "outputs": [],
   "source": []
  },
  {
   "cell_type": "markdown",
   "id": "de8194de",
   "metadata": {},
   "source": [
    "## Additional Exercise\n",
    "Once you've completed the above exercises, follow the directions from https://gist.github.com/zgulde/ec8ed80ad8216905cda83d5645c60886 in order to thouroughly comment your code to explain your code.\n"
   ]
  },
  {
   "cell_type": "code",
   "execution_count": null,
   "id": "d2e0a0e6",
   "metadata": {},
   "outputs": [],
   "source": []
  },
  {
   "cell_type": "markdown",
   "id": "78453c2d",
   "metadata": {},
   "source": [
    "## Bonus\n",
    "1. Create a function named **twelveto24**. It should accept a string in the format **10:45am** or **4:30pm** and return a string that is the representation of the time in a 24-hour format. **Bonus** write a function that does the opposite.\n",
    "2. Create a function named **col_index**. It should accept a spreadsheet column name, and return the index number of the column.\n",
    "* col_index('A') returns 1\n",
    "* col_index('B') returns 2\n",
    "* col_index('AA') returns 27"
   ]
  },
  {
   "cell_type": "code",
   "execution_count": null,
   "id": "ebf05c34",
   "metadata": {},
   "outputs": [],
   "source": []
  }
 ],
 "metadata": {
  "kernelspec": {
   "display_name": "Python 3 (ipykernel)",
   "language": "python",
   "name": "python3"
  },
  "language_info": {
   "codemirror_mode": {
    "name": "ipython",
    "version": 3
   },
   "file_extension": ".py",
   "mimetype": "text/x-python",
   "name": "python",
   "nbconvert_exporter": "python",
   "pygments_lexer": "ipython3",
   "version": "3.11.5"
  }
 },
 "nbformat": 4,
 "nbformat_minor": 5
}
