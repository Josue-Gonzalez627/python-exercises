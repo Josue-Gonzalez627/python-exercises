{
 "cells": [
  {
   "cell_type": "markdown",
   "id": "0f11d9d1",
   "metadata": {},
   "source": [
    "# Exercises\n",
    "\n",
    "Create a file named function_exercises.py for this exercise. After creating each function specified below, write the necessary code in order to test your function."
   ]
  },
  {
   "cell_type": "markdown",
   "id": "42fd50ac",
   "metadata": {},
   "source": [
    "1. Define a function named **is_two**. It should accept one input and return **True** if the passed input is either the number or the string **2**, **False** otherwise.\n"
   ]
  },
  {
   "cell_type": "code",
   "execution_count": 4,
   "id": "f1861aa8",
   "metadata": {},
   "outputs": [
    {
     "name": "stdout",
     "output_type": "stream",
     "text": [
      "True\n",
      "True\n",
      "False\n",
      "False\n"
     ]
    }
   ],
   "source": [
    "def is_two(n):\n",
    "    return n == 2 or str(n) == '2'\n",
    "\n",
    "# Test the function\n",
    "print(is_two(2))\n",
    "print(is_two('2'))\n",
    "print(is_two(3))\n",
    "print(is_two('two'))"
   ]
  },
  {
   "cell_type": "markdown",
   "id": "4fa5463a",
   "metadata": {},
   "source": [
    "2. Define a function named **is_vowel**. It should return **True** if the passed string is a vowel, **False** otherwise.\n"
   ]
  },
  {
   "cell_type": "code",
   "execution_count": 52,
   "id": "99981b27",
   "metadata": {},
   "outputs": [
    {
     "name": "stdout",
     "output_type": "stream",
     "text": [
      "True\n",
      "True\n",
      "False\n",
      "False\n",
      "\n",
      "True\n",
      "True\n",
      "False\n",
      "False\n"
     ]
    }
   ],
   "source": [
    "def is_vowel(char):\n",
    "    return char.lower() == 'a' or char.lower() == 'e' or char.lower() == 'i' or char.lower() == 'o' or char.lower() == 'u'\n",
    "# Test the function\n",
    "print(is_vowel('a'))\n",
    "print(is_vowel('E'))\n",
    "print(is_vowel('z'))\n",
    "print(is_vowel('B'))\n",
    "### Mine is alright but not too clean AND it only works with multiple letters but not if a number is input.\n",
    "\n",
    "\n",
    "###Another Way###\n",
    "print()\n",
    "def is_vowel1(char):\n",
    "    vowels = 'aeiou'\n",
    "    return char.lower() in vowels\n",
    "# Test the function\n",
    "print(is_vowel1('a'))\n",
    "print(is_vowel1('E'))\n",
    "print(is_vowel1('z'))\n",
    "print(is_vowel1('B'))"
   ]
  },
  {
   "cell_type": "code",
   "execution_count": 43,
   "id": "9956f93b",
   "metadata": {},
   "outputs": [
    {
     "data": {
      "text/plain": [
       "['a', 'e', 'i', 'o', 'u']"
      ]
     },
     "execution_count": 43,
     "metadata": {},
     "output_type": "execute_result"
    }
   ],
   "source": [
    "# Lauren's code\n",
    "\n",
    "list('aeiou')"
   ]
  },
  {
   "cell_type": "code",
   "execution_count": 45,
   "id": "ac7d5bda",
   "metadata": {},
   "outputs": [
    {
     "data": {
      "text/plain": [
       "False"
      ]
     },
     "execution_count": 45,
     "metadata": {},
     "output_type": "execute_result"
    }
   ],
   "source": [
    "# Lauren's code\n",
    "\n",
    "'f' in list('aeiou')"
   ]
  },
  {
   "cell_type": "code",
   "execution_count": 49,
   "id": "de7bf08a",
   "metadata": {},
   "outputs": [
    {
     "name": "stdout",
     "output_type": "stream",
     "text": [
      "False\n",
      "True\n",
      "False\n",
      "False\n"
     ]
    }
   ],
   "source": [
    "# Lauren's code\n",
    "\n",
    "def is_vowel(somestring) :\n",
    "    #check that the arg is a str\n",
    "    if type(somestring) == str:\n",
    "        \n",
    "        #if the str is 1 char and a letter\n",
    "        if len(somestring) == 1 and somestring.isalpha():\n",
    "            \n",
    "            #return bool ans to: lower-letter in vowel list?\n",
    "            return somestring.lower() in list('aeiou')\n",
    "        \n",
    "        #return false if string fails 1 alpha-char length\n",
    "        else:\n",
    "            return False\n",
    "    # returns false if input is not a str\n",
    "    else:\n",
    "        return False\n",
    "print(is_vowel(4))\n",
    "print(is_vowel('A'))\n",
    "print(is_vowel('T'))\n",
    "print(is_vowel('Lauren'))"
   ]
  },
  {
   "cell_type": "markdown",
   "id": "5db0ad25",
   "metadata": {},
   "source": [
    "3. Define a function named **is_consonant**. It should return **True** if the passed string is a consonant, **False** otherwise. Use your **is_vowel** function to accomplish this.\n"
   ]
  },
  {
   "cell_type": "code",
   "execution_count": 60,
   "id": "39552a24",
   "metadata": {
    "scrolled": true
   },
   "outputs": [
    {
     "name": "stdout",
     "output_type": "stream",
     "text": [
      "False\n",
      "False\n",
      "True\n",
      "True\n",
      "False\n"
     ]
    }
   ],
   "source": [
    "def is_vowel(char):\n",
    "    vowels = 'aeiou'\n",
    "    return char.lower() in vowels\n",
    "# keep in mind I technically don't have to re-write this above because if it has already\n",
    "# been ran in #2, then it should already be stored (vowels).\n",
    "\n",
    "\n",
    "def is_consonant(char):\n",
    "    return char.isalpha() and not is_vowel(char) \n",
    "# .isalpha() checks if the character is a letter\n",
    "\n",
    "# Test the function\n",
    "print(is_consonant('a'))\n",
    "print(is_consonant('E'))\n",
    "print(is_consonant('z'))\n",
    "print(is_consonant('B'))\n",
    "print(is_consonant('1'))\n",
    "\n",
    "### doesn't work with numbers and it thinks \"john\" is a consonant and gives a true... need to check repo to fix and update"
   ]
  },
  {
   "cell_type": "markdown",
   "id": "fee4d2bb",
   "metadata": {},
   "source": [
    "4. Define a function that accepts a string that is a word. The function should capitalize the first letter of the word if the word starts with a consonant.\n"
   ]
  },
  {
   "cell_type": "code",
   "execution_count": 63,
   "id": "d73ebbb0",
   "metadata": {},
   "outputs": [
    {
     "name": "stdout",
     "output_type": "stream",
     "text": [
      "apple\n",
      "Banana\n",
      "Kite\n",
      "Zebra\n",
      "5\n",
      "\n",
      "Original word: cat, Result: Cat\n",
      "Original word: boat, Result: Boat\n",
      "Original word: original, Result: original\n"
     ]
    }
   ],
   "source": [
    "def is_vowel(char):\n",
    "    vowels = 'aeiou'\n",
    "    return char.lower() in vowels\n",
    "\n",
    "def cap_if_consonant(word):\n",
    "    if word and is_consonant(word[0]):\n",
    "        return word.capitalize()\n",
    "    else:\n",
    "        return word\n",
    "\n",
    "# Below checks for consonant, top one not needed if already ran it in above questions\n",
    "def is_consonant(char):\n",
    "    return char.isalpha() and not is_vowel(char) \n",
    "\n",
    "# Test\n",
    "print(cap_if_consonant('apple'))\n",
    "print(cap_if_consonant('banana'))\n",
    "print(cap_if_consonant('kite'))\n",
    "print(cap_if_consonant('zebra'))\n",
    "print(cap_if_consonant('5'))\n",
    "### Also cannot accept any numbers (should give a response), currently errors out\n",
    "print()\n",
    "\n",
    "# Online response  (just to show the change)\n",
    "input_word = 'cat'\n",
    "result = cap_if_consonant(input_word)\n",
    "print(f'Original word: {input_word}, Result: {result}')\n",
    "\n",
    "input_word = 'boat'\n",
    "result = cap_if_consonant(input_word)\n",
    "print(f'Original word: {input_word}, Result: {result}')\n",
    "\n",
    "input_word = 'original'\n",
    "result = cap_if_consonant(input_word)\n",
    "print(f'Original word: {input_word}, Result: {result}')\n",
    "      "
   ]
  },
  {
   "cell_type": "markdown",
   "id": "5700f8cc",
   "metadata": {},
   "source": [
    "5. Define a function named **calculate_tip**. It should accept a tip percentage (a number between 0 and 1) and the bill total, and return the amount to tip.\n"
   ]
  },
  {
   "cell_type": "code",
   "execution_count": 26,
   "id": "01d5cdbd",
   "metadata": {},
   "outputs": [
    {
     "name": "stdout",
     "output_type": "stream",
     "text": [
      "Bill Total: $50.0, Tip Percentage: 15.0%, Tip Amount: $7.5\n"
     ]
    }
   ],
   "source": [
    "def calculate_tip(tip_percentage, bill_total):\n",
    "    if 0 <= tip_percentage <= 1:\n",
    "# rather than the 'if' another way is...\n",
    "# tip_percentage = min(1, max(0, tip_percentage))\n",
    "    # the max keeps it above 0 and the min keep it at 1 at the most.\n",
    "        tip_amount = tip_percentage * bill_total\n",
    "        return tip_amount\n",
    "    else:\n",
    "        return \"Invalid tip percentage. Please enter a number between 0 and 1.\"\n",
    "\n",
    "# Test\n",
    "tip_percentage = 0.15    # 15% tip\n",
    "bill_total = 50.0\n",
    "tip_amount = calculate_tip(tip_percentage, bill_total)\n",
    "print(f'Bill Total: ${bill_total}, Tip Percentage: {tip_percentage * 100}%, Tip Amount: ${tip_amount}')\n"
   ]
  },
  {
   "cell_type": "markdown",
   "id": "a55b9af8",
   "metadata": {},
   "source": [
    "6. Define a function named **apply_discount**. It should accept a original price, and a discount percentage, and return the price after the discount is applied.\n"
   ]
  },
  {
   "cell_type": "code",
   "execution_count": 31,
   "id": "2ecc5e8b",
   "metadata": {},
   "outputs": [
    {
     "name": "stdout",
     "output_type": "stream",
     "text": [
      "Original Price: $250.0, Discount Percentage: 25.0%, Discount Price: 187.5\n"
     ]
    }
   ],
   "source": [
    "def apply_discount(discount_percentage, original_price):\n",
    "    discount_percentage = min(1, max(0, discount_percentage))\n",
    "    discount_price = (original_price - (discount_percentage * original_price))\n",
    "    return discount_price\n",
    "\n",
    "# Test\n",
    "discount_percentage = 0.25   # 25% discount\n",
    "original_price = 250.0\n",
    "discount_price = apply_discount(discount_percentage, original_price)\n",
    "print(f'Original Price: ${original_price}, Discount Percentage: {discount_percentage * 100}%, Discount Price: {discount_price}')\n",
    "\n",
    "# Can augment/improve this with what I've learned about inputs to have it prompt\n",
    "# the price and discount to give a result!"
   ]
  },
  {
   "cell_type": "markdown",
   "id": "b0ecbc5d",
   "metadata": {},
   "source": [
    "7. Define a function named **handle_commas**. It should accept a string that is a number that contains commas in it as input, and return a number as output.\n"
   ]
  },
  {
   "cell_type": "code",
   "execution_count": 12,
   "id": "69aace13",
   "metadata": {},
   "outputs": [
    {
     "name": "stdout",
     "output_type": "stream",
     "text": [
      "Original string: 1,500,250.74, Result: 1500250.74\n"
     ]
    }
   ],
   "source": [
    "def handle_commas(input_str):\n",
    "    # remove commas\n",
    "    cleaned_str = input_str.replace(',', '')\n",
    "    \n",
    "    try:\n",
    "        # convert to a float\n",
    "        result = float(cleaned_str)\n",
    "        return result\n",
    "    except ValueError:\n",
    "        print(f'Error: Unable to convert {input_str} to a number.')\n",
    "        return None\n",
    "    \n",
    "# Test\n",
    "input_str = '1,500,250.74'\n",
    "result = handle_commas(input_str)\n",
    "print(f'Original string: {input_str}, Result: {result}')\n",
    "    "
   ]
  },
  {
   "cell_type": "code",
   "execution_count": null,
   "id": "1ab4e323",
   "metadata": {},
   "outputs": [],
   "source": [
    "# Lauren's code\n",
    "\"\"\"\n",
    "This function will:\n",
    "- check if input is a string\n",
    "    -removes any commas\n",
    "    -check if the stripped input is a digit\n",
    "        - if True, returns input as an integer\n",
    "        - False otherwise\n",
    "- if not a string, returns false stmt\n",
    "\"\"\"\n",
    "def handle_commas(fakenum):\n",
    "    if type(fakenum) == str:\n",
    "        stripfakenum = fakenum.replace(\",\", \"\")\n",
    "        if stripfakenum.isdigit():\n",
    "            return int(stripfakenum)\n",
    "        else:\n",
    "            return False\n",
    "    else:\n",
    "        False\n",
    "### go to repo to see the updated one to handle numbers"
   ]
  },
  {
   "cell_type": "markdown",
   "id": "de712469",
   "metadata": {},
   "source": [
    "8. Define a function named **get_letter_grade**. It should accept a number and return the letter grade associated with that number (A-F).\n"
   ]
  },
  {
   "cell_type": "code",
   "execution_count": 69,
   "id": "72749704",
   "metadata": {},
   "outputs": [
    {
     "name": "stdout",
     "output_type": "stream",
     "text": [
      "Score: 92, Letter Grade: A\n"
     ]
    }
   ],
   "source": [
    "def get_letter_grade(score):\n",
    "    if type(score) == int:\n",
    "        if 90 <= score <= 100:\n",
    "            return 'A'\n",
    "        elif 80 <= score < 90:\n",
    "            return 'B'\n",
    "        elif 70 <= score < 80:\n",
    "            return 'C'\n",
    "        elif 60 <= score < 70:\n",
    "            return 'D'\n",
    "        elif 0 <= score < 60:\n",
    "            return 'F'\n",
    "    else:\n",
    "        return 'Invalid score. Please enter a number between 0 and 100.'\n",
    "\n",
    "# Test\n",
    "score = 92\n",
    "letter_grade = get_letter_grade(score)\n",
    "print(f'Score: {score}, Letter Grade: {letter_grade}')\n",
    "      "
   ]
  },
  {
   "cell_type": "markdown",
   "id": "385ed0e5",
   "metadata": {},
   "source": [
    "9. Define a function named **remove_vowels** that accepts a string and returns a string with all the vowels removed.\n"
   ]
  },
  {
   "cell_type": "code",
   "execution_count": 34,
   "id": "ed72602c",
   "metadata": {},
   "outputs": [
    {
     "name": "stdout",
     "output_type": "stream",
     "text": [
      "Original string: pancakes are delicious!, Result: pncks r dlcs!\n"
     ]
    }
   ],
   "source": [
    "def remove_vowels(input_str):\n",
    "    # remove vowels\n",
    "    vowels = 'aeiouAEIOU'\n",
    "#     cleaned_str = ''.join(char for char in input_str if char not in vowels)\n",
    "#     Another Version # ^^^\n",
    "    cleaned_str = input_str\n",
    "    for vowel in vowels:\n",
    "        cleaned_str = cleaned_str.replace(vowel, '')\n",
    "    return cleaned_str\n",
    "\n",
    "# Test\n",
    "input_str = 'pancakes are delicious!'\n",
    "result = remove_vowels(input_str)\n",
    "print(f'Original string: {input_str}, Result: {result}')\n"
   ]
  },
  {
   "cell_type": "code",
   "execution_count": 74,
   "id": "081334fa",
   "metadata": {},
   "outputs": [
    {
     "name": "stdout",
     "output_type": "stream",
     "text": [
      "Sq\n",
      "Pncks r dlcs\n",
      "Msty\n"
     ]
    }
   ],
   "source": [
    "# Lauren's code (adding to remove)\n",
    "\n",
    "def remove_vowels(word):\n",
    "    # empty string for items to keep\n",
    "    new_word = \"\"\n",
    "    \n",
    "    # loop iteration over word\n",
    "    for letter in word:\n",
    "        \n",
    "        # conditional check for whether letter in word is not a vowel.\n",
    "        if not is_vowel(letter):\n",
    "            \n",
    "            # If so, add to empty string\n",
    "            new_word += letter\n",
    "            \n",
    "    # return concatenated empty string\n",
    "    return new_word\n",
    "\n",
    "print(remove_vowels ('Sequoia'))\n",
    "print(remove_vowels ('Pancakes are delicious'))\n",
    "print(remove_vowels ('Misty'))"
   ]
  },
  {
   "cell_type": "markdown",
   "id": "80cd6a7c",
   "metadata": {},
   "source": [
    "10. Define a function named **normalize_name**. It should accept a string and return a valid python identifier, that is:\n",
    "* anything that is not a valid python identifier should be removed\n",
    "* leading and trailing whitespace should be removed\n",
    "* everything should be lowercase\n",
    "* spaces should be replaced with underscores\n",
    "* for example:\n",
    "    * Name will become name\n",
    "    * First Name will become first_name\n",
    "    * % Completed will become completed\n"
   ]
  },
  {
   "cell_type": "code",
   "execution_count": 79,
   "id": "38862f8f",
   "metadata": {},
   "outputs": [
    {
     "name": "stdout",
     "output_type": "stream",
     "text": [
      "Original string: % WorK ComPLETED %, Result: work_completed\n",
      "5_candies\n",
      "five_________candies\n"
     ]
    }
   ],
   "source": [
    "def normalize_name(input_str):\n",
    "    \n",
    "    # Remove anything that isn't a valid python identifier\n",
    "    cleaned_str = ''.join(char.lower() if char.isalnum() or char.isspace() else '' for char in input_str)\n",
    "    # .isalnum - Returns True if all characters in the string are alphanumeric\n",
    "    \n",
    "    # Remove leading and trailing whitespace (done this before)\n",
    "    cleaned_str = cleaned_str.strip()\n",
    "    \n",
    "    # Replace spaces with underscores (easy now)\n",
    "    cleaned_str = cleaned_str.replace(' ', '_')\n",
    "    \n",
    "    return cleaned_str\n",
    "\n",
    "# Test\n",
    "input_str = \"% WorK ComPLETED %\"\n",
    "result = normalize_name(input_str)\n",
    "print(f'Original string: {input_str}, Result: {result}')\n",
    "print(normalize_name('5 candies'))\n",
    "print(normalize_name('     Five     $.    candies   '))"
   ]
  },
  {
   "cell_type": "markdown",
   "id": "e97d6baf",
   "metadata": {},
   "source": [
    "11. Write a function named **cumulative_sum** that accepts a list of numbers and returns a list that is the cumulative sum of the numbers in the list.\n",
    "* cumulative_sum([1, 1, 1]) returns [1, 2, 3]\n",
    "* cumulative_sum([1, 2, 3, 4]) returns [1, 3, 6, 10]"
   ]
  },
  {
   "cell_type": "code",
   "execution_count": 87,
   "id": "dcf7c0f0",
   "metadata": {},
   "outputs": [],
   "source": [
    "def cumulative_sum(oldlist):\n",
    "    \n",
    "    newlist=[]\n",
    "    \n",
    "    #intitalize a variable to store the cumulative sum\n",
    "    c_sum = 0\n",
    "    \n",
    "    for num in oldlist:\n",
    "        #add the current number to the cumulative sum\n",
    "        c_sum += num\n",
    "#         print(f'cumulative: {c_sum}')\n",
    "        #append the cumulative sum to the newlist\n",
    "        newlist.append(c_sum)\n",
    "    print(f'oldlist: {oldlist}')\n",
    "    print(f'newlist: {newlist}')\n",
    "\n",
    "        \n",
    "### Only question I didn't get to attempt, try again later on my own"
   ]
  },
  {
   "cell_type": "code",
   "execution_count": 88,
   "id": "05a6e9fe",
   "metadata": {},
   "outputs": [
    {
     "name": "stdout",
     "output_type": "stream",
     "text": [
      "oldlist: [3, 6, 2]\n",
      "newlist: [3, 9, 11]\n"
     ]
    }
   ],
   "source": [
    "cumulative_sum([3,6,2])"
   ]
  },
  {
   "cell_type": "code",
   "execution_count": 89,
   "id": "2ccf9d81",
   "metadata": {
    "scrolled": true
   },
   "outputs": [
    {
     "name": "stdout",
     "output_type": "stream",
     "text": [
      "oldlist: [1, 1, 1]\n",
      "newlist: [1, 2, 3]\n"
     ]
    }
   ],
   "source": [
    "cumulative_sum([1, 1, 1])"
   ]
  },
  {
   "cell_type": "code",
   "execution_count": 90,
   "id": "e0e6a934",
   "metadata": {},
   "outputs": [
    {
     "name": "stdout",
     "output_type": "stream",
     "text": [
      "oldlist: [1, 2, 3, 4]\n",
      "newlist: [1, 3, 6, 10]\n"
     ]
    }
   ],
   "source": [
    "cumulative_sum([1, 2, 3, 4])"
   ]
  },
  {
   "cell_type": "markdown",
   "id": "950a49ea",
   "metadata": {},
   "source": [
    "## Additional Exercise\n",
    "Once you've completed the above exercises, follow the directions from https://gist.github.com/zgulde/ec8ed80ad8216905cda83d5645c60886 in order to thouroughly comment your code to explain your code.\n"
   ]
  },
  {
   "cell_type": "code",
   "execution_count": null,
   "id": "15dcd0bc",
   "metadata": {},
   "outputs": [],
   "source": []
  },
  {
   "cell_type": "markdown",
   "id": "6b62aad9",
   "metadata": {},
   "source": [
    "## Bonus\n",
    "1. Create a function named **twelveto24**. It should accept a string in the format **10:45am** or **4:30pm** and return a string that is the representation of the time in a 24-hour format. **Bonus** write a function that does the opposite.\n",
    "2. Create a function named **col_index**. It should accept a spreadsheet column name, and return the index number of the column.\n",
    "* col_index('A') returns 1\n",
    "* col_index('B') returns 2\n",
    "* col_index('AA') returns 27"
   ]
  },
  {
   "cell_type": "code",
   "execution_count": 97,
   "id": "9c2b9136",
   "metadata": {},
   "outputs": [],
   "source": [
    "def twelveto24(time):\n",
    "    # separate hours and minutes\n",
    "    time = time.split(':') # split at colon as list\n",
    "    hour = time[0] # store hrs in variables\n",
    "    mins = time[1].split(' ') # store minutes in list\n",
    "    minutes = [0] # store min in var\n",
    "    timeofday = mins[1] # store time of day in var\n",
    "    \n",
    "    if timeofday.lower() == 'pm':\n",
    "        \n",
    "        hour = 12 + int(hour)\n",
    "        print(hour)\n",
    "        \n",
    "        return str(hour) + ':' + str(minutes) + timeofday\n",
    "    else:\n",
    "        return hour + ':' + minutes + timeofday\n",
    "    \n",
    "### check repo for fine-tuning and read it over and over again to fully understand the steps!"
   ]
  },
  {
   "cell_type": "code",
   "execution_count": 98,
   "id": "df93769e",
   "metadata": {},
   "outputs": [
    {
     "name": "stdout",
     "output_type": "stream",
     "text": [
      "18\n"
     ]
    },
    {
     "data": {
      "text/plain": [
       "'18:[0]pm'"
      ]
     },
     "execution_count": 98,
     "metadata": {},
     "output_type": "execute_result"
    }
   ],
   "source": [
    "twelveto24('6:45 pm')"
   ]
  },
  {
   "cell_type": "markdown",
   "id": "352533de",
   "metadata": {},
   "source": [
    "##### Bonus write a function that does the opposite."
   ]
  },
  {
   "cell_type": "code",
   "execution_count": null,
   "id": "fdf25bbe",
   "metadata": {},
   "outputs": [],
   "source": []
  }
 ],
 "metadata": {
  "kernelspec": {
   "display_name": "Python 3 (ipykernel)",
   "language": "python",
   "name": "python3"
  },
  "language_info": {
   "codemirror_mode": {
    "name": "ipython",
    "version": 3
   },
   "file_extension": ".py",
   "mimetype": "text/x-python",
   "name": "python",
   "nbconvert_exporter": "python",
   "pygments_lexer": "ipython3",
   "version": "3.11.5"
  }
 },
 "nbformat": 4,
 "nbformat_minor": 5
}
