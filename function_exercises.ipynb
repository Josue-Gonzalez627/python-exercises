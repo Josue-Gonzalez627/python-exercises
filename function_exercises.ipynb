{
 "cells": [
  {
   "cell_type": "markdown",
   "id": "dcfe3506",
   "metadata": {},
   "source": [
    "# Exercises\n",
    "\n",
    "Create a file named function_exercises.py for this exercise. After creating each function specified below, write the necessary code in order to test your function."
   ]
  },
  {
   "cell_type": "markdown",
   "id": "8deea75d",
   "metadata": {},
   "source": [
    "1. Define a function named **is_two**. It should accept one input and return **True** if the passed input is either the number or the string **2**, **False** otherwise.\n"
   ]
  },
  {
   "cell_type": "code",
   "execution_count": 4,
   "id": "e71d97e7",
   "metadata": {},
   "outputs": [
    {
     "name": "stdout",
     "output_type": "stream",
     "text": [
      "True\n",
      "True\n",
      "False\n",
      "False\n"
     ]
    }
   ],
   "source": [
    "def is_two(n):\n",
    "    return n == 2 or str(n) == '2'\n",
    "\n",
    "# Test the function\n",
    "print(is_two(2))\n",
    "print(is_two('2'))\n",
    "print(is_two(3))\n",
    "print(is_two('two'))"
   ]
  },
  {
   "cell_type": "markdown",
   "id": "7ef86787",
   "metadata": {},
   "source": [
    "2. Define a function named **is_vowel**. It should return **True** if the passed string is a vowel, **False** otherwise.\n"
   ]
  },
  {
   "cell_type": "code",
   "execution_count": 5,
   "id": "f0dfc4f2",
   "metadata": {},
   "outputs": [
    {
     "name": "stdout",
     "output_type": "stream",
     "text": [
      "True\n",
      "True\n",
      "False\n",
      "False\n",
      "\n",
      "True\n",
      "True\n",
      "False\n",
      "False\n"
     ]
    }
   ],
   "source": [
    "def is_vowel(char):\n",
    "    return char.lower() == 'a' or char.lower() == 'e' or char.lower() == 'i' or char.lower() == 'o' or char.lower() == 'u'\n",
    "# Test the function\n",
    "print(is_vowel('a'))\n",
    "print(is_vowel('E'))\n",
    "print(is_vowel('z'))\n",
    "print(is_vowel('B'))\n",
    "\n",
    "\n",
    "###Another Way###\n",
    "print()\n",
    "def is_vowel1(char):\n",
    "    vowels = 'aeiou'\n",
    "    return char.lower() in vowels\n",
    "# Test the function\n",
    "print(is_vowel1('a'))\n",
    "print(is_vowel1('E'))\n",
    "print(is_vowel1('z'))\n",
    "print(is_vowel1('B'))"
   ]
  },
  {
   "cell_type": "markdown",
   "id": "5709c933",
   "metadata": {},
   "source": [
    "3. Define a function named **is_consonant**. It should return **True** if the passed string is a consonant, **False** otherwise. Use your **is_vowel** function to accomplish this.\n"
   ]
  },
  {
   "cell_type": "code",
   "execution_count": 6,
   "id": "1d5ec1c8",
   "metadata": {
    "scrolled": true
   },
   "outputs": [
    {
     "name": "stdout",
     "output_type": "stream",
     "text": [
      "False\n",
      "False\n",
      "True\n",
      "True\n",
      "False\n"
     ]
    }
   ],
   "source": [
    "def is_vowel(char):\n",
    "    vowels = 'aeiou'\n",
    "    return char.lower() in vowels\n",
    "# keep in mind I technically don't have to re-write this above because if it has already\n",
    "# been ran in #2, then it should already be stored (vowels).\n",
    "\n",
    "\n",
    "def is_consonant(char):\n",
    "    return char.isalpha() and not is_vowel(char) \n",
    "# .isalpha() checks if the character is a letter\n",
    "\n",
    "# Test the function\n",
    "print(is_consonant('a'))\n",
    "print(is_consonant('E'))\n",
    "print(is_consonant('z'))\n",
    "print(is_consonant('B'))\n",
    "print(is_consonant('1'))"
   ]
  },
  {
   "cell_type": "markdown",
   "id": "f849a955",
   "metadata": {},
   "source": [
    "4. Define a function that accepts a string that is a word. The function should capitalize the first letter of the word if the word starts with a consonant.\n"
   ]
  },
  {
   "cell_type": "code",
   "execution_count": 20,
   "id": "a3937f99",
   "metadata": {
    "collapsed": true
   },
   "outputs": [
    {
     "name": "stdout",
     "output_type": "stream",
     "text": [
      "apple\n",
      "Banana\n",
      "Kite\n",
      "Zebra\n",
      "\n",
      "Original word: cat, Result: Cat\n",
      "Original word: boat, Result: Boat\n",
      "Original word: original, Result: original\n"
     ]
    }
   ],
   "source": [
    "def is_vowel(char):\n",
    "    vowels = 'aeiou'\n",
    "    return char.lower() in vowels\n",
    "\n",
    "def cap_if_consonant(word):\n",
    "    if word and is_consonant(word[0]):\n",
    "        return word.capitalize()\n",
    "    else:\n",
    "        return word\n",
    "\n",
    "# Below checks for consonant, top one not needed if already ran it in above questions\n",
    "def is_consonant(char):\n",
    "    return char.isalpha() and not is_vowel(char) \n",
    "\n",
    "# Test\n",
    "print(cap_if_consonant('apple'))\n",
    "print(cap_if_consonant('banana'))\n",
    "print(cap_if_consonant('kite'))\n",
    "print(cap_if_consonant('zebra'))\n",
    "print()\n",
    "\n",
    "# Online response  (just to show the change)\n",
    "input_word = 'cat'\n",
    "result = cap_if_consonant(input_word)\n",
    "print(f'Original word: {input_word}, Result: {result}')\n",
    "\n",
    "input_word = 'boat'\n",
    "result = cap_if_consonant(input_word)\n",
    "print(f'Original word: {input_word}, Result: {result}')\n",
    "\n",
    "input_word = 'original'\n",
    "result = cap_if_consonant(input_word)\n",
    "print(f'Original word: {input_word}, Result: {result}')\n",
    "      "
   ]
  },
  {
   "cell_type": "markdown",
   "id": "c3a83013",
   "metadata": {},
   "source": [
    "5. Define a function named **calculate_tip**. It should accept a tip percentage (a number between 0 and 1) and the bill total, and return the amount to tip.\n"
   ]
  },
  {
   "cell_type": "code",
   "execution_count": 26,
   "id": "12e141de",
   "metadata": {},
   "outputs": [
    {
     "name": "stdout",
     "output_type": "stream",
     "text": [
      "Bill Total: $50.0, Tip Percentage: 15.0%, Tip Amount: $7.5\n"
     ]
    }
   ],
   "source": [
    "def calculate_tip(tip_percentage, bill_total):\n",
    "    if 0 <= tip_percentage <= 1:\n",
    "# rather than the 'if' another way is...\n",
    "# tip_percentage = min(1, max(0, tip_percentage))\n",
    "    # the max keeps it above 0 and the min keep it at 1 at the most.\n",
    "        tip_amount = tip_percentage * bill_total\n",
    "        return tip_amount\n",
    "    else:\n",
    "        return \"Invalid tip percentage. Please enter a number between 0 and 1.\"\n",
    "\n",
    "# Test\n",
    "tip_percentage = 0.15    # 15% tip\n",
    "bill_total = 50.0\n",
    "tip_amount = calculate_tip(tip_percentage, bill_total)\n",
    "print(f'Bill Total: ${bill_total}, Tip Percentage: {tip_percentage * 100}%, Tip Amount: ${tip_amount}')\n"
   ]
  },
  {
   "cell_type": "markdown",
   "id": "fdab0c82",
   "metadata": {},
   "source": [
    "6. Define a function named **apply_discount**. It should accept a original price, and a discount percentage, and return the price after the discount is applied.\n"
   ]
  },
  {
   "cell_type": "code",
   "execution_count": 31,
   "id": "fd61589b",
   "metadata": {},
   "outputs": [
    {
     "name": "stdout",
     "output_type": "stream",
     "text": [
      "Original Price: $250.0, Discount Percentage: 25.0%, Discount Price: 187.5\n"
     ]
    }
   ],
   "source": [
    "def apply_discount(discount_percentage, original_price):\n",
    "    discount_percentage = min(1, max(0, discount_percentage))\n",
    "    discount_price = (original_price - (discount_percentage * original_price))\n",
    "    return discount_price\n",
    "\n",
    "# Test\n",
    "discount_percentage = 0.25   # 25% discount\n",
    "original_price = 250.0\n",
    "discount_price = apply_discount(discount_percentage, original_price)\n",
    "print(f'Original Price: ${original_price}, Discount Percentage: {discount_percentage * 100}%, Discount Price: {discount_price}')\n",
    "\n",
    "# Can augment/improve this with what I've learned about inputs to have it prompt\n",
    "# the price and discount to give a result!"
   ]
  },
  {
   "cell_type": "markdown",
   "id": "32bb8439",
   "metadata": {},
   "source": [
    "7. Define a function named **handle_commas**. It should accept a string that is a number that contains commas in it as input, and return a number as output.\n"
   ]
  },
  {
   "cell_type": "code",
   "execution_count": 12,
   "id": "216ec704",
   "metadata": {},
   "outputs": [
    {
     "name": "stdout",
     "output_type": "stream",
     "text": [
      "Original string: 1,500,250.74, Result: 1500250.74\n"
     ]
    }
   ],
   "source": [
    "def handle_commas(input_str):\n",
    "    # remove commas\n",
    "    cleaned_str = input_str.replace(',', '')\n",
    "    \n",
    "    try:\n",
    "        # convert to a float\n",
    "        result = float(cleaned_str)\n",
    "        return result\n",
    "    except ValueError:\n",
    "        print(f'Error: Unable to convert {input_str} to a number.')\n",
    "        return None\n",
    "    \n",
    "# Test\n",
    "input_str = '1,500,250.74'\n",
    "result = handle_commas(input_str)\n",
    "print(f'Original string: {input_str}, Result: {result}')\n",
    "    "
   ]
  },
  {
   "cell_type": "markdown",
   "id": "0791c54f",
   "metadata": {},
   "source": [
    "8. Define a function named **get_letter_grade**. It should accept a number and return the letter grade associated with that number (A-F).\n"
   ]
  },
  {
   "cell_type": "code",
   "execution_count": 11,
   "id": "ab707335",
   "metadata": {},
   "outputs": [
    {
     "name": "stdout",
     "output_type": "stream",
     "text": [
      "Score: 92, Letter Grade: A\n"
     ]
    }
   ],
   "source": [
    "def get_letter_grade(score):\n",
    "    if 90 <= score <= 100:\n",
    "        return 'A'\n",
    "    elif 80 <= score < 90:\n",
    "        return 'B'\n",
    "    elif 70 <= score < 80:\n",
    "        return 'C'\n",
    "    elif 60 <= score < 70:\n",
    "        return 'D'\n",
    "    elif 0 <= score < 60:\n",
    "        return 'F'\n",
    "    else:\n",
    "        return 'Invalid schore. Please enter a number between 0 and 100.'\n",
    "\n",
    "# Test\n",
    "score = 92\n",
    "letter_grade = get_letter_grade(score)\n",
    "print(f'Score: {score}, Letter Grade: {letter_grade}')\n",
    "      "
   ]
  },
  {
   "cell_type": "markdown",
   "id": "7c70331d",
   "metadata": {},
   "source": [
    "9. Define a function named **remove_vowels** that accepts a string and returns a string with all the vowels removed.\n"
   ]
  },
  {
   "cell_type": "code",
   "execution_count": 34,
   "id": "a234e8c0",
   "metadata": {},
   "outputs": [
    {
     "name": "stdout",
     "output_type": "stream",
     "text": [
      "Original string: pancakes are delicious!, Result: pncks r dlcs!\n"
     ]
    }
   ],
   "source": [
    "def remove_vowels(input_str):\n",
    "    # remove vowels\n",
    "    vowels = 'aeiouAEIOU'\n",
    "#     cleaned_str = ''.join(char for char in input_str if char not in vowels)\n",
    "#     Another Version #\n",
    "    cleaned_str = input_str\n",
    "    for vowel in vowels:\n",
    "        cleaned_str = cleaned_str.replace(vowel, '')\n",
    "    return cleaned_str\n",
    "\n",
    "# Test\n",
    "input_str = 'pancakes are delicious!'\n",
    "result = remove_vowels(input_str)\n",
    "print(f'Original string: {input_str}, Result: {result}')\n"
   ]
  },
  {
   "cell_type": "markdown",
   "id": "9f4b11f5",
   "metadata": {},
   "source": [
    "10. Define a function named **normalize_name**. It should accept a string and return a valid python identifier, that is:\n",
    "* anything that is not a valid python identifier should be removed\n",
    "* leading and trailing whitespace should be removed\n",
    "* everything should be lowercase\n",
    "* spaces should be replaced with underscores\n",
    "* for example:\n",
    "    * Name will become name\n",
    "    * First Name will become first_name\n",
    "    * % Completed will become completed"
   ]
  },
  {
   "cell_type": "code",
   "execution_count": null,
   "id": "23ea98d2",
   "metadata": {},
   "outputs": [],
   "source": [
    "def normalize_name()"
   ]
  },
  {
   "cell_type": "markdown",
   "id": "d81e8c7b",
   "metadata": {},
   "source": [
    "11. Write a function named **cumulative_sum** that accepts a list of numbers and returns a list that is the cumulative sum of the numbers in the list.\n",
    "* cumulative_sum([1, 1, 1]) returns [1, 2, 3]\n",
    "* cumulative_sum([1, 2, 3, 4]) returns [1, 3, 6, 10]"
   ]
  },
  {
   "cell_type": "code",
   "execution_count": null,
   "id": "489f0333",
   "metadata": {},
   "outputs": [],
   "source": [
    "def cumulative_sum()"
   ]
  },
  {
   "cell_type": "markdown",
   "id": "0a87e3f5",
   "metadata": {},
   "source": [
    "## Additional Exercise\n",
    "Once you've completed the above exercises, follow the directions from https://gist.github.com/zgulde/ec8ed80ad8216905cda83d5645c60886 in order to thouroughly comment your code to explain your code.\n"
   ]
  },
  {
   "cell_type": "code",
   "execution_count": null,
   "id": "0c3f0fd3",
   "metadata": {},
   "outputs": [],
   "source": []
  },
  {
   "cell_type": "markdown",
   "id": "e7aafbb6",
   "metadata": {},
   "source": [
    "## Bonus\n",
    "1. Create a function named **twelveto24**. It should accept a string in the format **10:45am** or **4:30pm** and return a string that is the representation of the time in a 24-hour format. **Bonus** write a function that does the opposite.\n",
    "2. Create a function named **col_index**. It should accept a spreadsheet column name, and return the index number of the column.\n",
    "* col_index('A') returns 1\n",
    "* col_index('B') returns 2\n",
    "* col_index('AA') returns 27"
   ]
  },
  {
   "cell_type": "code",
   "execution_count": null,
   "id": "2690c3b5",
   "metadata": {},
   "outputs": [],
   "source": []
  }
 ],
 "metadata": {
  "kernelspec": {
   "display_name": "Python 3 (ipykernel)",
   "language": "python",
   "name": "python3"
  },
  "language_info": {
   "codemirror_mode": {
    "name": "ipython",
    "version": 3
   },
   "file_extension": ".py",
   "mimetype": "text/x-python",
   "name": "python",
   "nbconvert_exporter": "python",
   "pygments_lexer": "ipython3",
   "version": "3.11.5"
  }
 },
 "nbformat": 4,
 "nbformat_minor": 5
}
