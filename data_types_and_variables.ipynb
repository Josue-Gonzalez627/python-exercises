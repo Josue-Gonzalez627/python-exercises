{
 "cells": [
  {
   "cell_type": "code",
   "execution_count": 1,
   "id": "f7d44bfa",
   "metadata": {},
   "outputs": [
    {
     "data": {
      "text/plain": [
       "float"
      ]
     },
     "execution_count": 1,
     "metadata": {},
     "output_type": "execute_result"
    }
   ],
   "source": [
    "# 1. Identify the data type of the following values:\n",
    "\n",
    "type(99.9)"
   ]
  },
  {
   "cell_type": "code",
   "execution_count": 2,
   "id": "e0501b6b",
   "metadata": {},
   "outputs": [
    {
     "data": {
      "text/plain": [
       "str"
      ]
     },
     "execution_count": 2,
     "metadata": {},
     "output_type": "execute_result"
    }
   ],
   "source": [
    "type(\"False\")"
   ]
  },
  {
   "cell_type": "code",
   "execution_count": 3,
   "id": "2b1ad58d",
   "metadata": {},
   "outputs": [
    {
     "data": {
      "text/plain": [
       "bool"
      ]
     },
     "execution_count": 3,
     "metadata": {},
     "output_type": "execute_result"
    }
   ],
   "source": [
    "type(False)"
   ]
  },
  {
   "cell_type": "code",
   "execution_count": 4,
   "id": "beeb51ef",
   "metadata": {},
   "outputs": [
    {
     "data": {
      "text/plain": [
       "str"
      ]
     },
     "execution_count": 4,
     "metadata": {},
     "output_type": "execute_result"
    }
   ],
   "source": [
    "type('0')"
   ]
  },
  {
   "cell_type": "code",
   "execution_count": 5,
   "id": "d7b98988",
   "metadata": {},
   "outputs": [
    {
     "data": {
      "text/plain": [
       "int"
      ]
     },
     "execution_count": 5,
     "metadata": {},
     "output_type": "execute_result"
    }
   ],
   "source": [
    "type(0)"
   ]
  },
  {
   "cell_type": "code",
   "execution_count": 6,
   "id": "3c2d6b79",
   "metadata": {},
   "outputs": [
    {
     "data": {
      "text/plain": [
       "bool"
      ]
     },
     "execution_count": 6,
     "metadata": {},
     "output_type": "execute_result"
    }
   ],
   "source": [
    "type(True)"
   ]
  },
  {
   "cell_type": "code",
   "execution_count": 7,
   "id": "9a6ee227",
   "metadata": {},
   "outputs": [
    {
     "data": {
      "text/plain": [
       "str"
      ]
     },
     "execution_count": 7,
     "metadata": {},
     "output_type": "execute_result"
    }
   ],
   "source": [
    "type('True')"
   ]
  },
  {
   "cell_type": "code",
   "execution_count": 8,
   "id": "6289568c",
   "metadata": {},
   "outputs": [
    {
     "data": {
      "text/plain": [
       "list"
      ]
     },
     "execution_count": 8,
     "metadata": {},
     "output_type": "execute_result"
    }
   ],
   "source": [
    "type([{}])"
   ]
  },
  {
   "cell_type": "code",
   "execution_count": 9,
   "id": "cf1a6556",
   "metadata": {},
   "outputs": [
    {
     "data": {
      "text/plain": [
       "dict"
      ]
     },
     "execution_count": 9,
     "metadata": {},
     "output_type": "execute_result"
    }
   ],
   "source": [
    "type({'a': []})"
   ]
  },
  {
   "cell_type": "code",
   "execution_count": 11,
   "id": "7b17d5c5",
   "metadata": {},
   "outputs": [],
   "source": [
    "# 2. What data type would best represent the following?\n",
    "\n",
    "# A term or phrase typed into a search box\n",
    "# str\n",
    "\n",
    "# Whether or not a user is logged in\n",
    "# bool\n",
    "\n",
    "# A discount amount to apply to a user's shopping cart\n",
    "# float\n",
    "\n",
    "# Whether or not a coupon code is valid\n",
    "# bool\n",
    "\n",
    "# An email address typed into a registration form\n",
    "# str\n",
    "\n",
    "# The price of a product\n",
    "# float\n",
    "\n",
    "# The email addresses collected from a registration form\n",
    "# list\n",
    "\n",
    "# Information about applicants to Codeup's data science program\n",
    "# dict"
   ]
  },
  {
   "cell_type": "markdown",
   "id": "3e9d5214",
   "metadata": {},
   "source": [
    "# 3. For each of the following code blocks:\n",
    "\n",
    "Read the expression and predict the evaluated results\n",
    "\n",
    "Execute the expression in a Python REPL."
   ]
  },
  {
   "cell_type": "code",
   "execution_count": null,
   "id": "f490dd6f",
   "metadata": {},
   "outputs": [],
   "source": [
    "'1' + 2\n",
    "# Error, two different types\n",
    "# If both str, would concantenate \n",
    "# If both int or float, would simply add"
   ]
  },
  {
   "cell_type": "code",
   "execution_count": null,
   "id": "b049af18",
   "metadata": {},
   "outputs": [],
   "source": [
    "6 % 4\n",
    "# 2\n",
    "# gives the remainder after performing division"
   ]
  },
  {
   "cell_type": "code",
   "execution_count": null,
   "id": "e615c835",
   "metadata": {},
   "outputs": [],
   "source": [
    "type(6 % 4)\n",
    "# int\n",
    "# the result is 2 and is an int"
   ]
  },
  {
   "cell_type": "code",
   "execution_count": null,
   "id": "8e0675d8",
   "metadata": {},
   "outputs": [],
   "source": [
    "type(type(6 % 4))\n",
    "# type\n",
    "# classifying a classification"
   ]
  },
  {
   "cell_type": "code",
   "execution_count": null,
   "id": "a2014e79",
   "metadata": {},
   "outputs": [],
   "source": [
    "'3 + 4 is ' + 3 + 4\n",
    "# Error\n",
    "# Same as the 1st one but I see what it's trying to do"
   ]
  },
  {
   "cell_type": "code",
   "execution_count": null,
   "id": "7e15d948",
   "metadata": {},
   "outputs": [],
   "source": [
    "0 < 0\n",
    "# False"
   ]
  },
  {
   "cell_type": "code",
   "execution_count": null,
   "id": "264b0126",
   "metadata": {},
   "outputs": [],
   "source": [
    "'False' == False\n",
    "# False because the str doesn't equal a bool"
   ]
  },
  {
   "cell_type": "code",
   "execution_count": null,
   "id": "b03f9f4f",
   "metadata": {},
   "outputs": [],
   "source": [
    "True == 'True'\n",
    "# False also"
   ]
  },
  {
   "cell_type": "code",
   "execution_count": null,
   "id": "63e6c2ea",
   "metadata": {},
   "outputs": [],
   "source": [
    "5 >= -5\n",
    "# True"
   ]
  },
  {
   "cell_type": "code",
   "execution_count": null,
   "id": "5be903d2",
   "metadata": {},
   "outputs": [],
   "source": [
    "True or \"42\"\n",
    "# True because no other inquiry to say otherwise\n",
    "# False version yields '42'"
   ]
  },
  {
   "cell_type": "code",
   "execution_count": null,
   "id": "cae1416a",
   "metadata": {},
   "outputs": [],
   "source": [
    "6 % 5\n",
    "# remainder of 1 after dividing"
   ]
  },
  {
   "cell_type": "code",
   "execution_count": null,
   "id": "e5851ebe",
   "metadata": {},
   "outputs": [],
   "source": [
    "5 < 4 and 1 == 1\n",
    "# False \n",
    "# Both must be true"
   ]
  },
  {
   "cell_type": "code",
   "execution_count": null,
   "id": "a2644c58",
   "metadata": {},
   "outputs": [],
   "source": [
    "'codeup' == 'codeup' and 'codeup' == 'Codeup'\n",
    "# False\n",
    "# Python is case sensitive"
   ]
  },
  {
   "cell_type": "code",
   "execution_count": null,
   "id": "23323fb0",
   "metadata": {},
   "outputs": [],
   "source": [
    "4 >= 0 and 1 !== '1'\n",
    "# Error\n",
    "# 1st is true but the second has the error, can't compare str to int AND !== is not \n",
    "# a valid operator, it's != that means 'not equal to'"
   ]
  },
  {
   "cell_type": "code",
   "execution_count": null,
   "id": "da85944f",
   "metadata": {},
   "outputs": [],
   "source": [
    "6 % 3 == 0\n",
    "# True"
   ]
  },
  {
   "cell_type": "code",
   "execution_count": null,
   "id": "2c7d1852",
   "metadata": {},
   "outputs": [],
   "source": [
    "5 % 2 != 0\n",
    "# True, has a remainder of 1"
   ]
  },
  {
   "cell_type": "code",
   "execution_count": null,
   "id": "a336f327",
   "metadata": {},
   "outputs": [],
   "source": [
    "[1] + 2\n",
    "# Error\n",
    "# like before, a list can't concatenate with an int or float"
   ]
  },
  {
   "cell_type": "code",
   "execution_count": null,
   "id": "17bebe0e",
   "metadata": {},
   "outputs": [],
   "source": [
    "[1] + [2]\n",
    "# [1, 2]\n",
    "# concatenates the lists together"
   ]
  },
  {
   "cell_type": "code",
   "execution_count": null,
   "id": "1cc1400d",
   "metadata": {},
   "outputs": [],
   "source": [
    "[1] * 2\n",
    "# [1, 1]\n",
    "# same as [1] + [1]"
   ]
  },
  {
   "cell_type": "code",
   "execution_count": null,
   "id": "3c8d71fa",
   "metadata": {},
   "outputs": [],
   "source": [
    "[1] * [2]\n",
    "# Error\n",
    "# can't multiple lists"
   ]
  },
  {
   "cell_type": "code",
   "execution_count": null,
   "id": "1c898d35",
   "metadata": {},
   "outputs": [],
   "source": [
    "[] + [] == []\n",
    "# True\n",
    "# empty list + empty list == empty list "
   ]
  },
  {
   "cell_type": "code",
   "execution_count": null,
   "id": "bca6b638",
   "metadata": {},
   "outputs": [],
   "source": [
    "{} + {}\n",
    "# Error\n",
    "# Can't add dictionaries together"
   ]
  },
  {
   "cell_type": "code",
   "execution_count": 33,
   "id": "ab0ce3e1",
   "metadata": {},
   "outputs": [
    {
     "name": "stdout",
     "output_type": "stream",
     "text": [
      "Overall total cost: $ 27\n"
     ]
    }
   ],
   "source": [
    "# Describe the following scenarios. \n",
    "# You will need to create and assign variables and use operators.\n",
    "\n",
    "# 4. You have rented some movies for your kids:\n",
    "\n",
    "# The Little Mermaid for 3 days\n",
    "# Brother Bear for 5 days\n",
    "# Hercules for 1 day\n",
    "# If the daily fee to rent a movie is 3 dollars, how much will you have to pay?\n",
    "\n",
    "days_little_mermaid = 3\n",
    "days_brother_bear = 5\n",
    "days_hercules = 1\n",
    "\n",
    "daily_fee = 3\n",
    "\n",
    "# cost for each movie rented\n",
    "total_cost_little_mermaid = days_little_mermaid * daily_fee\n",
    "total_cost_brother_bear = days_brother_bear * daily_fee\n",
    "total_cost_hercules = days_hercules * daily_fee\n",
    "\n",
    "# total overall cost\n",
    "total_cost = total_cost_little_mermaid + total_cost_brother_bear + total_cost_hercules\n",
    "\n",
    "\n",
    "\n",
    "print('Overall total cost:', '$', total_cost)"
   ]
  },
  {
   "cell_type": "code",
   "execution_count": 34,
   "id": "b1b693a1",
   "metadata": {},
   "outputs": [
    {
     "name": "stdout",
     "output_type": "stream",
     "text": [
      "Payment for this week: $ 7420\n"
     ]
    }
   ],
   "source": [
    "# 5. Suppose you're working as a contractor for 3 companies: \n",
    "# Google, Amazon and Facebook.\n",
    "\n",
    "# They pay you the following hourly rates:\n",
    "\n",
    "# Google: 400 dollars\n",
    "# Amazon: 380 dollars\n",
    "# Facebook: 350 dollars\n",
    "# This week you worked: 10 hours for Facebook, 6 hours for Google,\n",
    "# and 4 hours for Amazon.\n",
    "\n",
    "# How much will you receive in payment for this week?\n",
    "\n",
    "# Hours worked per company\n",
    "facebook_hours = 10\n",
    "google_hours = 6\n",
    "amazon_hours = 4\n",
    "\n",
    "# Payment rate per company\n",
    "facebook_rate = 350\n",
    "google_rate = 400\n",
    "amazon_rate = 380\n",
    "\n",
    "# Amount received per company\n",
    "facebook_pay = facebook_rate * facebook_hours\n",
    "google_pay = google_rate * google_hours\n",
    "amazon_pay = amazon_rate * amazon_hours\n",
    "\n",
    "# Adding all 'paychecks' together\n",
    "weekly_total_pay = facebook_pay + google_pay + amazon_pay\n",
    "\n",
    "print('Payment for this week:', '$', weekly_total_pay)\n"
   ]
  },
  {
   "cell_type": "code",
   "execution_count": 35,
   "id": "39d52ce7",
   "metadata": {},
   "outputs": [
    {
     "name": "stdout",
     "output_type": "stream",
     "text": [
      "The student can enroll in the class.\n"
     ]
    }
   ],
   "source": [
    "# 6. A student can be enrolled in a class only if the class is not full \n",
    "# and the class schedule does not conflict with her current schedule.\n",
    "\n",
    "class_is_full = False # set to True if class is full\n",
    "schedule_conflict = False # set to True if there is a schedule conflict\n",
    "\n",
    "can_enroll = not class_is_full and not schedule_conflict\n",
    "# I was confused but above is basically saying 'class is not full?', it checks \n",
    "# the False above and returnes 'True' for that part.\n",
    "# Same for schedule conflict, it WANTS the find a False due to the 'not'.\n",
    "# It found it so it returned 'True'\n",
    "    # with both being True, it returns 'can_enroll' afterall!\n",
    "\n",
    "if can_enroll:\n",
    "    print('The student can enroll in the class.')\n",
    "else:\n",
    "    print('The student cannot enroll in the class due to class being full or schedule conflict')\n",
    "    "
   ]
  },
  {
   "cell_type": "code",
   "execution_count": 40,
   "id": "99d261e3",
   "metadata": {},
   "outputs": [
    {
     "data": {
      "text/plain": [
       "True"
      ]
     },
     "execution_count": 40,
     "metadata": {},
     "output_type": "execute_result"
    }
   ],
   "source": [
    "# 7. A product offer can be applied only if a customer buys more than 2 items, \n",
    "# and the offer has not expired. Premium members do not need to buy a \n",
    "# specific amount of products.\n",
    "\n",
    "buy_more_than_2 = False\n",
    "offer_expired = False\n",
    "is_premium = True\n",
    "\n",
    "product_offer = (buy_more_than_2 or is_premium) and not offer_expired\n",
    "product_offer\n",
    "\n"
   ]
  },
  {
   "cell_type": "code",
   "execution_count": 103,
   "id": "37d11473",
   "metadata": {},
   "outputs": [],
   "source": [
    "# 8. Use the following code to follow the instructions below:\n",
    "username = 'codeup'\n",
    "password = 'notastrongpassword'\n",
    "\n",
    "# Create a variable that holds a boolean value for each of the following conditions:\n",
    "\n",
    "# The password must be at least 5 characters\n",
    "# The username must be no more than 20 characters\n",
    "# The password must not be the same as the username\n",
    "\n",
    "# Bonus Neither the username or password can start nor end with whitespace"
   ]
  },
  {
   "cell_type": "code",
   "execution_count": 104,
   "id": "295a676d",
   "metadata": {},
   "outputs": [
    {
     "data": {
      "text/plain": [
       "True"
      ]
     },
     "execution_count": 104,
     "metadata": {},
     "output_type": "execute_result"
    }
   ],
   "source": [
    "password_len = len(password) >= 5\n",
    "password_len"
   ]
  },
  {
   "cell_type": "code",
   "execution_count": 105,
   "id": "ce8117a1",
   "metadata": {},
   "outputs": [
    {
     "data": {
      "text/plain": [
       "True"
      ]
     },
     "execution_count": 105,
     "metadata": {},
     "output_type": "execute_result"
    }
   ],
   "source": [
    "username_len = len(username) <= 20\n",
    "username_len"
   ]
  },
  {
   "cell_type": "code",
   "execution_count": 106,
   "id": "b436bac8",
   "metadata": {},
   "outputs": [
    {
     "data": {
      "text/plain": [
       "True"
      ]
     },
     "execution_count": 106,
     "metadata": {},
     "output_type": "execute_result"
    }
   ],
   "source": [
    "unique_creds = password != username\n",
    "unique_creds"
   ]
  },
  {
   "cell_type": "code",
   "execution_count": 107,
   "id": "0bb53fbe",
   "metadata": {},
   "outputs": [
    {
     "data": {
      "text/plain": [
       "True"
      ]
     },
     "execution_count": 107,
     "metadata": {},
     "output_type": "execute_result"
    }
   ],
   "source": [
    "password_len and username_len and unique_creds"
   ]
  },
  {
   "cell_type": "code",
   "execution_count": 108,
   "id": "28248e70",
   "metadata": {},
   "outputs": [],
   "source": [
    "# Now I can mess with the username and password above to make sure my bools\n",
    "# are working right."
   ]
  },
  {
   "cell_type": "code",
   "execution_count": 109,
   "id": "0e34b211",
   "metadata": {},
   "outputs": [],
   "source": [
    "# Bonus\n",
    "no_whitespace_un = len(username) == len(username.strip())\n",
    "no_whitespace_pw = len(password) == len(password.strip())"
   ]
  },
  {
   "cell_type": "code",
   "execution_count": 110,
   "id": "4b068584",
   "metadata": {},
   "outputs": [
    {
     "data": {
      "text/plain": [
       "6"
      ]
     },
     "execution_count": 110,
     "metadata": {},
     "output_type": "execute_result"
    }
   ],
   "source": [
    "len(username.strip())"
   ]
  },
  {
   "cell_type": "code",
   "execution_count": 112,
   "id": "853ae6c3",
   "metadata": {},
   "outputs": [
    {
     "data": {
      "text/plain": [
       "6"
      ]
     },
     "execution_count": 112,
     "metadata": {},
     "output_type": "execute_result"
    }
   ],
   "source": [
    "len(username)  #if there is white space at start or end, will be diff than \n",
    "                #len(username.strip())"
   ]
  },
  {
   "cell_type": "code",
   "execution_count": 113,
   "id": "f7fb1ee9",
   "metadata": {},
   "outputs": [
    {
     "data": {
      "text/plain": [
       "True"
      ]
     },
     "execution_count": 113,
     "metadata": {},
     "output_type": "execute_result"
    }
   ],
   "source": [
    "password_len and username_len and unique_creds and no_whitespace_pw and no_whitespace_un"
   ]
  }
 ],
 "metadata": {
  "kernelspec": {
   "display_name": "Python 3 (ipykernel)",
   "language": "python",
   "name": "python3"
  },
  "language_info": {
   "codemirror_mode": {
    "name": "ipython",
    "version": 3
   },
   "file_extension": ".py",
   "mimetype": "text/x-python",
   "name": "python",
   "nbconvert_exporter": "python",
   "pygments_lexer": "ipython3",
   "version": "3.11.5"
  }
 },
 "nbformat": 4,
 "nbformat_minor": 5
}
